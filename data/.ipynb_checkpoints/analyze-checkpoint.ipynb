{
 "cells": [
  {
   "cell_type": "code",
   "execution_count": 1,
   "metadata": {},
   "outputs": [],
   "source": [
    "import pickle\n",
    "from collections import defaultdict\n",
    "from matplotlib import pyplot as plt\n",
    "import numpy as np"
   ]
  },
  {
   "cell_type": "markdown",
   "metadata": {},
   "source": [
    "### MathOverflow"
   ]
  },
  {
   "cell_type": "code",
   "execution_count": 26,
   "metadata": {},
   "outputs": [],
   "source": [
    "data_type = 'mathoverflow'"
   ]
  },
  {
   "cell_type": "code",
   "execution_count": 27,
   "metadata": {},
   "outputs": [
    {
     "name": "stdout",
     "output_type": "stream",
     "text": [
      "5446\n",
      "73851\n"
     ]
    }
   ],
   "source": [
    "answerer_info_dict = defaultdict(list)  # {answerer: [q1, q3, ..., qn]}\n",
    "question_info_dict = defaultdict(list)  # {question: [a2, a5, ..., an]}\n",
    "\n",
    "# 1. Build answerer_info_dict & question_info_dict\n",
    "with open(data_type+'/answerer_info_'+data_type+'.txt') as f:\n",
    "    answerer_info = f.read()\n",
    "answerer_info = answerer_info.split('\\n')[:-1]\n",
    "for answerer_idx, questions in enumerate(answerer_info):\n",
    "    questions = list(map(int, questions.split(' ')))\n",
    "    answerer_info_dict[answerer_idx] = questions\n",
    "    for question in questions:\n",
    "        question_info_dict[question].append(answerer_idx)\n",
    "        \n",
    "print(len(answerer_info_dict))\n",
    "print(len(question_info_dict))"
   ]
  },
  {
   "cell_type": "markdown",
   "metadata": {},
   "source": [
    "### No. of answerers per question"
   ]
  },
  {
   "cell_type": "code",
   "execution_count": 28,
   "metadata": {},
   "outputs": [
    {
     "data": {
      "text/plain": [
       "173"
      ]
     },
     "execution_count": 28,
     "metadata": {},
     "output_type": "execute_result"
    }
   ],
   "source": [
    "x = []\n",
    "for answerers in question_info_dict.values():\n",
    "    x.append(len(answerers))\n",
    "max(x)"
   ]
  },
  {
   "cell_type": "code",
   "execution_count": 29,
   "metadata": {},
   "outputs": [
    {
     "data": {
      "image/png": "[encoded data removed]",
      "text/plain": [
       "<Figure size 432x288 with 1 Axes>"
      ]
     },
     "metadata": {
      "needs_background": "light"
     },
     "output_type": "display_data"
    }
   ],
   "source": [
    "plt.hist(np.array(x), bins=np.arange(50)*2)\n",
    "plt.show()"
   ]
  },
  {
   "cell_type": "code",
   "execution_count": 30,
   "metadata": {},
   "outputs": [
    {
     "data": {
      "image/png": "[encoded data removed]",
      "text/plain": [
       "<Figure size 432x288 with 1 Axes>"
      ]
     },
     "metadata": {
      "needs_background": "light"
     },
     "output_type": "display_data"
    },
    {
     "name": "stdout",
     "output_type": "stream",
     "text": [
      "[0.         0.61618665 0.84979215 0.93049519 0.96203166 0.97633072\n",
      " 0.9835615  0.98766435 0.99037251 0.99218697 0.9933921  0.99447536\n",
      " 0.99526073 0.99566695 0.99620858 0.99653356 0.99689916 0.9972106\n",
      " 0.99746787 0.99768453]\n"
     ]
    }
   ],
   "source": [
    "hist, bins = np.histogram(x, bins=np.arange(173))\n",
    "cdf = np.cumsum(hist) / len(question_info_dict)\n",
    "plt.plot(np.arange(20), cdf[:20])\n",
    "plt.show()\n",
    "print(cdf[:20])"
   ]
  },
  {
   "cell_type": "markdown",
   "metadata": {},
   "source": [
    "### No. of questions per answerer"
   ]
  },
  {
   "cell_type": "code",
   "execution_count": 31,
   "metadata": {},
   "outputs": [
    {
     "data": {
      "text/plain": [
       "1784"
      ]
     },
     "execution_count": 31,
     "metadata": {},
     "output_type": "execute_result"
    }
   ],
   "source": [
    "x = []\n",
    "for questions in answerer_info_dict.values():\n",
    "    x.append(len(questions))\n",
    "max(x)"
   ]
  },
  {
   "cell_type": "code",
   "execution_count": 32,
   "metadata": {},
   "outputs": [
    {
     "data": {
      "image/png": "[encoded data removed]",
      "text/plain": [
       "<Figure size 432x288 with 1 Axes>"
      ]
     },
     "metadata": {
      "needs_background": "light"
     },
     "output_type": "display_data"
    }
   ],
   "source": [
    "plt.hist(np.array(x), bins=np.arange(100)*18)\n",
    "plt.show()"
   ]
  },
  {
   "cell_type": "code",
   "execution_count": 33,
   "metadata": {},
   "outputs": [
    {
     "data": {
      "image/png": "[encoded data removed]",
      "text/plain": [
       "<Figure size 432x288 with 1 Axes>"
      ]
     },
     "metadata": {
      "needs_background": "light"
     },
     "output_type": "display_data"
    },
    {
     "name": "stdout",
     "output_type": "stream",
     "text": [
      "[0.         0.         0.24972457 0.38009548 0.47300771 0.53341902\n",
      " 0.58097686 0.61953728 0.64891664 0.67352185 0.69739258 0.71446934\n",
      " 0.7308116  0.74293059 0.75358061 0.76184355 0.7735953  0.78295997\n",
      " 0.79177378 0.80077121 0.80756519 0.81399192 0.81968417 0.82794712\n",
      " 0.83272126 0.83694455 0.84153507 0.84575835 0.8496144  0.85255233\n",
      " 0.85585751 0.85879545 0.86118252 0.8654058  0.86907822 0.87256702\n",
      " 0.8758722  0.87899376 0.8802791  0.88229893 0.88560411 0.88835843\n",
      " 0.89111274 0.89258171 0.89386706 0.89533603 0.89809034 0.90011017\n",
      " 0.90139552 0.90378259]\n"
     ]
    }
   ],
   "source": [
    "hist, bins = np.histogram(x, bins=np.arange(1784))\n",
    "cdf = np.cumsum(hist) / len(answerer_info_dict)\n",
    "plt.plot(np.arange(50), cdf[:50])\n",
    "plt.show()\n",
    "print(cdf[:50])"
   ]
  },
  {
   "cell_type": "markdown",
   "metadata": {},
   "source": [
    "### No. of tags per question (train)"
   ]
  },
  {
   "cell_type": "code",
   "execution_count": 34,
   "metadata": {},
   "outputs": [
    {
     "name": "stdout",
     "output_type": "stream",
     "text": [
      "59080\n",
      "1429\n"
     ]
    }
   ],
   "source": [
    "with open(data_type+'/train_answer_'+data_type+'.txt') as f:\n",
    "    train_answer = f.read()\n",
    "\n",
    "train_answer = train_answer.split('\\n')[:-1]\n",
    "train_answer_dict = {}\n",
    "tags_list = []\n",
    "for answer_idx, tags in enumerate(train_answer):\n",
    "    tags = list(map(int, tags.split(' ')))\n",
    "    train_answer_dict[answer_idx] = tags\n",
    "    tags_list += tags\n",
    "\n",
    "print(len(train_answer_dict))\n",
    "print(len(set(tags_list)))"
   ]
  },
  {
   "cell_type": "code",
   "execution_count": 37,
   "metadata": {},
   "outputs": [
    {
     "data": {
      "text/plain": [
       "1454"
      ]
     },
     "execution_count": 37,
     "metadata": {},
     "output_type": "execute_result"
    }
   ],
   "source": [
    "max(tags_list)"
   ]
  },
  {
   "cell_type": "code",
   "execution_count": 38,
   "metadata": {},
   "outputs": [
    {
     "data": {
      "text/plain": [
       "5"
      ]
     },
     "execution_count": 38,
     "metadata": {},
     "output_type": "execute_result"
    }
   ],
   "source": [
    "x = []\n",
    "for tags in train_answer_dict.values():\n",
    "    x.append(len(tags))\n",
    "max(x)"
   ]
  },
  {
   "cell_type": "code",
   "execution_count": 39,
   "metadata": {},
   "outputs": [
    {
     "data": {
      "image/png": "[encoded data removed]",
      "text/plain": [
       "<Figure size 432x288 with 1 Axes>"
      ]
     },
     "metadata": {
      "needs_background": "light"
     },
     "output_type": "display_data"
    }
   ],
   "source": [
    "plt.hist(np.array(x), bins=np.arange(7))\n",
    "plt.show()"
   ]
  },
  {
   "cell_type": "markdown",
   "metadata": {},
   "source": [
    "### StackOverflow"
   ]
  },
  {
   "cell_type": "code",
   "execution_count": 2,
   "metadata": {},
   "outputs": [],
   "source": [
    "data_type = 'stackoverflow'"
   ]
  },
  {
   "cell_type": "code",
   "execution_count": 3,
   "metadata": {},
   "outputs": [
    {
     "name": "stdout",
     "output_type": "stream",
     "text": [
      "10509\n",
      "119630\n"
     ]
    }
   ],
   "source": [
    "answerer_info_dict = defaultdict(list)  # {answerer: [q1, q3, ..., qn]}\n",
    "question_info_dict = defaultdict(list)  # {question: [a2, a5, ..., an]}\n",
    "\n",
    "# 1. Build answerer_info_dict & question_info_dict\n",
    "with open(data_type+'/answerer_info_'+data_type+'.txt') as f:\n",
    "    answerer_info = f.read()\n",
    "answerer_info = answerer_info.split('\\n')[:-1]\n",
    "for answerer_idx, questions in enumerate(answerer_info):\n",
    "    questions = list(map(int, questions.split(' ')))\n",
    "    answerer_info_dict[answerer_idx] = questions\n",
    "    for question in questions:\n",
    "        question_info_dict[question].append(answerer_idx)\n",
    "        \n",
    "print(len(answerer_info_dict))\n",
    "print(len(question_info_dict))"
   ]
  },
  {
   "cell_type": "markdown",
   "metadata": {},
   "source": [
    "### No. of answerers per question"
   ]
  },
  {
   "cell_type": "code",
   "execution_count": 4,
   "metadata": {},
   "outputs": [
    {
     "data": {
      "text/plain": [
       "12"
      ]
     },
     "execution_count": 4,
     "metadata": {},
     "output_type": "execute_result"
    }
   ],
   "source": [
    "x = []\n",
    "for answerers in question_info_dict.values():\n",
    "    x.append(len(answerers))\n",
    "max(x)"
   ]
  },
  {
   "cell_type": "code",
   "execution_count": 5,
   "metadata": {},
   "outputs": [
    {
     "data": {
      "image/png": "[encoded data removed]",
      "text/plain": [
       "<Figure size 432x288 with 1 Axes>"
      ]
     },
     "metadata": {
      "needs_background": "light"
     },
     "output_type": "display_data"
    }
   ],
   "source": [
    "plt.hist(np.array(x), bins=np.arange(12))\n",
    "plt.show()"
   ]
  },
  {
   "cell_type": "code",
   "execution_count": 6,
   "metadata": {},
   "outputs": [
    {
     "data": {
      "image/png": "[encoded data removed]",
      "text/plain": [
       "<Figure size 432x288 with 1 Axes>"
      ]
     },
     "metadata": {
      "needs_background": "light"
     },
     "output_type": "display_data"
    },
    {
     "name": "stdout",
     "output_type": "stream",
     "text": [
      "[0.         0.98449386 0.99938979 0.99994149 0.9999582  0.99998328\n",
      " 0.99998328 0.99998328 0.99999164 0.99999164 0.99999164 1.        ]\n"
     ]
    }
   ],
   "source": [
    "hist, bins = np.histogram(x, bins=np.arange(13))\n",
    "cdf = np.cumsum(hist) / len(question_info_dict)\n",
    "plt.plot(np.arange(12), cdf[:12])\n",
    "plt.show()\n",
    "print(cdf[:12])"
   ]
  },
  {
   "cell_type": "markdown",
   "metadata": {},
   "source": [
    "### No. of questions per answerer"
   ]
  },
  {
   "cell_type": "code",
   "execution_count": 7,
   "metadata": {},
   "outputs": [
    {
     "data": {
      "text/plain": [
       "1682"
      ]
     },
     "execution_count": 7,
     "metadata": {},
     "output_type": "execute_result"
    }
   ],
   "source": [
    "x = []\n",
    "for questions in answerer_info_dict.values():\n",
    "    x.append(len(questions))\n",
    "max(x)"
   ]
  },
  {
   "cell_type": "code",
   "execution_count": 8,
   "metadata": {},
   "outputs": [
    {
     "data": {
      "image/png": "[encoded data removed]",
      "text/plain": [
       "<Figure size 432x288 with 1 Axes>"
      ]
     },
     "metadata": {
      "needs_background": "light"
     },
     "output_type": "display_data"
    }
   ],
   "source": [
    "plt.hist(np.array(x), bins=np.arange(100)*17)\n",
    "plt.show()"
   ]
  },
  {
   "cell_type": "code",
   "execution_count": 9,
   "metadata": {},
   "outputs": [
    {
     "data": {
      "image/png": "[encoded data removed]",
      "text/plain": [
       "<Figure size 432x288 with 1 Axes>"
      ]
     },
     "metadata": {
      "needs_background": "light"
     },
     "output_type": "display_data"
    },
    {
     "name": "stdout",
     "output_type": "stream",
     "text": [
      "[0.         0.         0.30098011 0.46493482 0.56437339 0.63526501\n",
      " 0.68236749 0.72337996 0.75478162 0.77790465 0.79874393 0.81606242\n",
      " 0.83119231 0.84337235 0.85707489 0.86754211 0.87648682 0.88409934\n",
      " 0.89123608 0.89761157 0.9023694  0.90712722 0.91245599 0.91654772\n",
      " 0.92121039 0.92435056 0.92758588 0.93034542 0.93291464 0.93538871\n",
      " 0.93786278 0.93995623 0.9424303  0.9446189  0.94604625 0.94775906\n",
      " 0.94928157 0.95032829 0.95242173 0.95403939 0.9555619  0.95689409\n",
      " 0.9577505  0.95889238 0.9606052  0.96184223 0.96288895 0.96326958\n",
      " 0.9643163  0.96507755]\n"
     ]
    }
   ],
   "source": [
    "hist, bins = np.histogram(x, bins=np.arange(1682))\n",
    "cdf = np.cumsum(hist) / len(answerer_info_dict)\n",
    "plt.plot(np.arange(50), cdf[:50])\n",
    "plt.show()\n",
    "print(cdf[:50])"
   ]
  },
  {
   "cell_type": "markdown",
   "metadata": {},
   "source": [
    "### No. of tags per question (train)"
   ]
  },
  {
   "cell_type": "code",
   "execution_count": 10,
   "metadata": {},
   "outputs": [
    {
     "name": "stdout",
     "output_type": "stream",
     "text": [
      "95704\n",
      "6792\n",
      "55520\n"
     ]
    }
   ],
   "source": [
    "with open(data_type+'/train_answer_'+data_type+'.txt') as f:\n",
    "    train_answer = f.read()\n",
    "\n",
    "train_answer = train_answer.split('\\n')[:-1]\n",
    "train_answer_dict = {}\n",
    "tags_list = []\n",
    "for answer_idx, tags in enumerate(train_answer):\n",
    "    tags = list(map(int, tags.split(' ')))\n",
    "    train_answer_dict[answer_idx] = tags\n",
    "    tags_list += tags\n",
    "    \n",
    "print(len(train_answer_dict))\n",
    "print(len(set(tags_list)))\n",
    "print(max(set(tags_list)))"
   ]
  },
  {
   "cell_type": "code",
   "execution_count": 11,
   "metadata": {},
   "outputs": [
    {
     "data": {
      "text/plain": [
       "6"
      ]
     },
     "execution_count": 11,
     "metadata": {},
     "output_type": "execute_result"
    }
   ],
   "source": [
    "x = []\n",
    "for tags in train_answer_dict.values():\n",
    "    x.append(len(tags))\n",
    "max(x)"
   ]
  },
  {
   "cell_type": "code",
   "execution_count": 12,
   "metadata": {},
   "outputs": [
    {
     "data": {
      "image/png": "[encoded data removed]",
      "text/plain": [
       "<Figure size 432x288 with 1 Axes>"
      ]
     },
     "metadata": {
      "needs_background": "light"
     },
     "output_type": "display_data"
    }
   ],
   "source": [
    "plt.hist(np.array(x), bins=np.arange(8))\n",
    "plt.show()"
   ]
  },
  {
   "cell_type": "markdown",
   "metadata": {},
   "source": [
    "### No. of tags per answerer"
   ]
  },
  {
   "cell_type": "code",
   "execution_count": null,
   "metadata": {},
   "outputs": [],
   "source": [
    "x = []\n",
    "for questions in answerer_info_dict.values():\n",
    "    for question in questions:\n",
    "        \n",
    "    x.append(len(questions))\n",
    "max(x)"
   ]
  },
  {
   "cell_type": "code",
   "execution_count": 13,
   "metadata": {},
   "outputs": [
    {
     "data": {
      "text/plain": [
       "{0: [28514, 10091, 102, 1623],\n",
       " 1: [6153, 195, 597, 6],\n",
       " 2: [195],\n",
       " 3: [26288, 509, 6, 7],\n",
       " 4: [4620, 438],\n",
       " 5: [14457, 418, 119],\n",
       " 6: [75, 1674, 13659],\n",
       " 7: [18793, 4570, 75],\n",
       " 8: [73, 1674, 700],\n",
       " 9: [130, 131, 647],\n",
       " 10: [146, 1674, 5631],\n",
       " 11: [1674, 38343],\n",
       " 12: [1674, 11059, 35269, 2686],\n",
       " 13: [438, 207],\n",
       " 14: [1441, 10, 119],\n",
       " 15: [1, 5618],\n",
       " 16: [32, 1154, 6440, 299, 27],\n",
       " 17: [43, 2339, 469],\n",
       " 18: [43744, 6922],\n",
       " 19: [611, 3751],\n",
       " 20: [800, 33, 6758, 363, 238],\n",
       " 21: [37],\n",
       " 22: [1, 34, 10543],\n",
       " 23: [1889, 570, 75, 1340],\n",
       " 24: [43, 6],\n",
       " 25: [3378],\n",
       " 26: [898, 43, 22],\n",
       " 27: [43, 796],\n",
       " 28: [951, 6, 2686, 1951],\n",
       " 29: [195, 1678],\n",
       " 30: [200],\n",
       " 31: [1229, 75, 5157],\n",
       " 32: [4785, 43, 247],\n",
       " 33: [1108],\n",
       " 34: [1, 19],\n",
       " 35: [75, 37],\n",
       " 36: [128, 140, 292],\n",
       " 37: [5672, 75, 22, 3579],\n",
       " 38: [15146, 1187],\n",
       " 39: [195, 597, 6],\n",
       " 40: [130, 5482],\n",
       " 41: [274, 43, 597, 22],\n",
       " 42: [1130, 267, 597, 47],\n",
       " 43: [1, 10],\n",
       " 44: [849, 134],\n",
       " 45: [43, 3551],\n",
       " 46: [33345, 3834, 39754, 7],\n",
       " 47: [1042, 43, 597],\n",
       " 48: [1, 26, 2107, 470],\n",
       " 49: [1, 5102],\n",
       " 50: [72, 1, 195, 597],\n",
       " 51: [138, 8013, 50, 1944, 152],\n",
       " 52: [7832, 8014],\n",
       " 53: [201, 505, 38, 4733],\n",
       " 54: [19835, 26571, 126, 27328],\n",
       " 55: [43],\n",
       " 56: [20601, 75],\n",
       " 57: [288, 809],\n",
       " 58: [1],\n",
       " 59: [2602, 595, 597, 3927],\n",
       " 60: [43, 146, 5014, 3678, 1087],\n",
       " 61: [120, 834, 43, 22],\n",
       " 62: [72, 6996, 398],\n",
       " 63: [33737, 195],\n",
       " 64: [1113, 6, 7],\n",
       " 65: [38, 295, 41, 18036, 1756],\n",
       " 66: [2185, 37, 405, 183],\n",
       " 67: [418, 119, 4551],\n",
       " 68: [576, 43, 116, 2415],\n",
       " 69: [46362, 119],\n",
       " 70: [130, 131, 373, 3101],\n",
       " 71: [1, 114],\n",
       " 72: [195, 6, 7, 936, 747],\n",
       " 73: [75, 844, 1229, 1679, 21397],\n",
       " 74: [1674],\n",
       " 75: [15322, 555, 404, 1674],\n",
       " 76: [32, 18, 107, 790],\n",
       " 77: [1042, 102, 1674],\n",
       " 78: [33345],\n",
       " 79: [614],\n",
       " 80: [130, 131, 748, 2615, 9594],\n",
       " 81: [195, 645],\n",
       " 82: [3209],\n",
       " 83: [22],\n",
       " 84: [12572, 6, 7],\n",
       " 85: [72, 1, 882, 976],\n",
       " 86: [72, 1],\n",
       " 87: [1037, 846],\n",
       " 88: [7656, 28739],\n",
       " 89: [75, 597, 622],\n",
       " 90: [33345, 810, 31147, 12572],\n",
       " 91: [32066, 43507, 1317],\n",
       " 92: [288, 809, 700],\n",
       " 93: [75, 510, 1019],\n",
       " 94: [2789, 9261, 6, 7],\n",
       " 95: [33345, 39754],\n",
       " 96: [1348, 3773],\n",
       " 97: [7658, 37],\n",
       " 98: [19376, 3378, 3379, 12778],\n",
       " 99: [12176, 75, 1679],\n",
       " 100: [33553, 35931, 34451, 33836],\n",
       " 101: [1, 13441],\n",
       " 102: [3378],\n",
       " 103: [37, 38],\n",
       " 104: [2609],\n",
       " 105: [2602],\n",
       " 106: [37, 183],\n",
       " 107: [24504, 28875],\n",
       " 108: [195, 14],\n",
       " 109: [15616],\n",
       " 110: [138],\n",
       " 111: [3449, 43, 156],\n",
       " 112: [4074],\n",
       " 113: [282],\n",
       " 114: [33737, 41258, 195],\n",
       " 115: [102, 43, 9574],\n",
       " 116: [138],\n",
       " 117: [143],\n",
       " 118: [1674],\n",
       " 119: [195, 597, 6],\n",
       " 120: [3087],\n",
       " 121: [7208, 130, 147],\n",
       " 122: [16898, 317, 2686],\n",
       " 123: [43],\n",
       " 124: [32, 3514],\n",
       " 125: [33, 555, 292, 60],\n",
       " 126: [72, 1],\n",
       " 127: [130, 131, 140],\n",
       " 128: [32, 1577, 13010],\n",
       " 129: [43, 76, 22, 2651, 7135],\n",
       " 130: [75],\n",
       " 131: [1601, 5101, 177, 4150, 119],\n",
       " 132: [1227, 645],\n",
       " 133: [353, 922, 195],\n",
       " 134: [138, 8014],\n",
       " 135: [18352],\n",
       " 136: [195, 1227],\n",
       " 137: [2202, 43, 85],\n",
       " 138: [16419, 18876, 772],\n",
       " 139: [7, 28364, 29437, 1197],\n",
       " 140: [4946, 75],\n",
       " 141: [898, 43, 22],\n",
       " 142: [32, 3514, 3782],\n",
       " 143: [37, 22],\n",
       " 144: [138],\n",
       " 145: [50, 31235],\n",
       " 146: [603, 22, 23],\n",
       " 147: [33, 1626],\n",
       " 148: [853, 22550],\n",
       " 149: [7656, 28739, 15459],\n",
       " 150: [1002, 379, 1702, 4087],\n",
       " 151: [267, 195],\n",
       " 152: [1],\n",
       " 153: [33737, 146, 195],\n",
       " 154: [26288, 5866, 317, 597],\n",
       " 155: [7656, 2621],\n",
       " 156: [1160, 83, 68],\n",
       " 157: [1042, 43, 6, 951],\n",
       " 158: [183],\n",
       " 159: [13827, 1509, 406],\n",
       " 160: [3604, 7],\n",
       " 161: [36457, 1042, 17019, 195],\n",
       " 162: [195],\n",
       " 163: [50, 1605],\n",
       " 164: [43, 37],\n",
       " 165: [7148, 461],\n",
       " 166: [747, 3374, 17073, 8601, 509],\n",
       " 167: [597, 7],\n",
       " 168: [130, 131],\n",
       " 169: [20311],\n",
       " 170: [923, 205],\n",
       " 171: [43, 6, 22],\n",
       " 172: [2921, 1818],\n",
       " 173: [1674, 12612],\n",
       " 174: [37, 38],\n",
       " 175: [1, 822],\n",
       " 176: [953, 1026],\n",
       " 177: [396, 20373, 359],\n",
       " 178: [1822],\n",
       " 179: [22],\n",
       " 180: [37, 38],\n",
       " 181: [33737],\n",
       " 182: [75, 435, 510],\n",
       " 183: [17936, 1, 1674, 36861],\n",
       " 184: [37, 43, 683, 22, 6812],\n",
       " 185: [17019, 195],\n",
       " 186: [24504, 853, 2621],\n",
       " 187: [33, 60, 294],\n",
       " 188: [1],\n",
       " 189: [1674, 75, 1085, 7238],\n",
       " 190: [1, 683],\n",
       " 191: [89, 1, 3142, 263],\n",
       " 192: [75, 2351, 145, 52, 340],\n",
       " 193: [7656, 17019, 20213],\n",
       " 194: [19618, 893, 1674],\n",
       " 195: [43, 247],\n",
       " 196: [1042, 15506, 25231],\n",
       " 197: [1, 37, 625],\n",
       " 198: [1160],\n",
       " 199: [72, 41],\n",
       " 200: [50, 138],\n",
       " 201: [33872, 10091],\n",
       " 202: [1674],\n",
       " 203: [138],\n",
       " 204: [1674, 379],\n",
       " 205: [4472, 2107, 37, 38],\n",
       " 206: [2276],\n",
       " 207: [119],\n",
       " 208: [10227, 37],\n",
       " 209: [1130, 122, 2686, 6367],\n",
       " 210: [38, 37, 182],\n",
       " 211: [1882, 75, 853],\n",
       " 212: [130, 10091, 17605],\n",
       " 213: [612, 60, 22],\n",
       " 214: [43, 47, 5295],\n",
       " 215: [17570, 1059, 124],\n",
       " 216: [43, 1108],\n",
       " 217: [75],\n",
       " 218: [33345, 4986, 3244, 853],\n",
       " 219: [26601],\n",
       " 220: [1674, 17668],\n",
       " 221: [32, 548, 333],\n",
       " 222: [272, 1, 824, 468],\n",
       " 223: [130, 10091],\n",
       " 224: [37171, 45436, 31147],\n",
       " 225: [2033, 922],\n",
       " 226: [17369],\n",
       " 227: [1, 37, 38, 19, 862],\n",
       " 228: [12392, 1674, 75, 3216, 15359],\n",
       " 229: [1269],\n",
       " 230: [43, 22],\n",
       " 231: [32, 1154],\n",
       " 232: [7656, 20213],\n",
       " 233: [75, 108],\n",
       " 234: [22043],\n",
       " 235: [72, 674, 120],\n",
       " 236: [1674, 11727],\n",
       " 237: [32112, 1042],\n",
       " 238: [33],\n",
       " 239: [43, 478, 195],\n",
       " 240: [264, 8745, 114],\n",
       " 241: [388, 292, 701, 60, 29],\n",
       " 242: [6153, 1915, 222],\n",
       " 243: [851, 597, 491],\n",
       " 244: [130, 9155],\n",
       " 245: [43],\n",
       " 246: [33, 292, 933, 14534, 60],\n",
       " 247: [505, 2341, 27277],\n",
       " 248: [1674, 407],\n",
       " 249: [7656, 195],\n",
       " 250: [6989, 335, 597, 22, 700],\n",
       " 251: [2722, 75, 340],\n",
       " 252: [4136, 18545, 2636, 5973],\n",
       " 253: [6, 7],\n",
       " 254: [7656, 20601, 458, 22799],\n",
       " 255: [20842, 3307, 548, 717],\n",
       " 256: [1252, 6, 7, 1197, 14290],\n",
       " 257: [1, 694, 5102],\n",
       " 258: [48026],\n",
       " 259: [3087],\n",
       " 260: [31418, 32780, 7374],\n",
       " 261: [32, 154, 252, 238],\n",
       " 262: [288, 1, 2764, 809],\n",
       " 263: [4537, 37],\n",
       " 264: [73, 43, 2069, 1833],\n",
       " 265: [6161, 290, 75, 4036],\n",
       " 266: [195],\n",
       " 267: [33737, 37221],\n",
       " 268: [1379, 75, 83, 852, 3060],\n",
       " 269: [1, 233, 9, 809, 398],\n",
       " 270: [1],\n",
       " 271: [707, 18396],\n",
       " 272: [1441, 2621],\n",
       " 273: [275, 893, 195],\n",
       " 274: [200, 3121, 52, 17716],\n",
       " 275: [37, 22],\n",
       " 276: [4307, 140, 119],\n",
       " 277: [33, 228],\n",
       " 278: [6996, 295],\n",
       " 279: [538, 6907],\n",
       " 280: [2009, 25231],\n",
       " 281: [6496, 75, 145, 309, 27],\n",
       " 282: [933, 6543],\n",
       " 283: [284, 13990, 14420],\n",
       " 284: [32813],\n",
       " 285: [20225, 1157, 4430, 2823],\n",
       " 286: [156, 916, 9990, 332],\n",
       " 287: [43, 15188, 3059],\n",
       " 288: [131, 2798],\n",
       " 289: [20256, 1, 27305, 809],\n",
       " 290: [33, 1708, 3199],\n",
       " 291: [33345, 42562, 773, 335],\n",
       " 292: [1201, 146, 20340, 3397],\n",
       " 293: [177, 23, 22, 119, 60],\n",
       " 294: [3395, 37, 2134],\n",
       " 295: [130, 131, 1058, 7554, 6937],\n",
       " 296: [384, 37, 38, 295],\n",
       " 297: [4848, 50],\n",
       " 298: [43],\n",
       " 299: [7656, 23369, 42411, 20213, 917],\n",
       " 300: [664],\n",
       " 301: [1674, 39331, 28514],\n",
       " 302: [72, 1],\n",
       " 303: [120, 2009, 3151],\n",
       " 304: [7],\n",
       " 305: [456, 457, 85],\n",
       " 306: [32, 2645],\n",
       " 307: [27049, 53377, 43, 30877],\n",
       " 308: [130, 131, 1058, 8424, 2365],\n",
       " 309: [195, 597, 5271],\n",
       " 310: [361, 22393],\n",
       " 311: [11227, 22, 227],\n",
       " 312: [15136, 7],\n",
       " 313: [1243, 597],\n",
       " 314: [119],\n",
       " 315: [747, 645],\n",
       " 316: [1, 9437],\n",
       " 317: [1470, 1902],\n",
       " 318: [43, 1108, 22],\n",
       " 319: [248, 209, 43, 120],\n",
       " 320: [24881, 1674, 36943],\n",
       " 321: [4, 13012, 119, 888, 922],\n",
       " 322: [30177],\n",
       " 323: [549],\n",
       " 324: [1122, 43, 37],\n",
       " 325: [47, 43, 1045, 5295],\n",
       " 326: [32, 3514, 2886],\n",
       " 327: [43, 1084, 37, 22],\n",
       " 328: [33824],\n",
       " 329: [9, 23811],\n",
       " 330: [5616, 140, 10091, 131],\n",
       " 331: [20852, 9804, 1157, 119],\n",
       " 332: [43, 4003, 195],\n",
       " 333: [2, 11162],\n",
       " 334: [600, 1, 1309],\n",
       " 335: [24425, 714, 75, 13980],\n",
       " 336: [17570],\n",
       " 337: [13832, 27, 75, 644],\n",
       " 338: [130, 131, 2823, 9944, 1945],\n",
       " 339: [73, 43, 1682, 564, 510],\n",
       " 340: [32, 6965, 1006, 3319],\n",
       " 341: [32, 33, 2119, 1203, 5975],\n",
       " 342: [43],\n",
       " 343: [195, 1093, 5382, 936, 657],\n",
       " 344: [105, 3209, 2519],\n",
       " 345: [1, 257, 7199],\n",
       " 346: [13634, 25111, 8758, 2078],\n",
       " 347: [4112, 22],\n",
       " 348: [3113, 1674, 75],\n",
       " 349: [665, 52],\n",
       " 350: [10247, 36457, 6922, 17019, 30942],\n",
       " 351: [1674, 75],\n",
       " 352: [30398],\n",
       " 353: [75, 15373, 622],\n",
       " 354: [1, 114, 37],\n",
       " 355: [6, 7, 14, 135],\n",
       " 356: [3698, 35423],\n",
       " 357: [3379, 119, 25231],\n",
       " 358: [177, 10, 1474],\n",
       " 359: [275, 1050, 17019],\n",
       " 360: [3834, 597],\n",
       " 361: [20601, 32652, 45785],\n",
       " 362: [37221, 7374],\n",
       " 363: [3849, 15373],\n",
       " 364: [50, 773, 8013, 6],\n",
       " 365: [9376, 3921, 195, 47],\n",
       " 366: [32, 922, 1019],\n",
       " 367: [2609, 323, 28077],\n",
       " 368: [17369],\n",
       " 369: [1160],\n",
       " 370: [515, 501, 327],\n",
       " 371: [1, 214, 247],\n",
       " 372: [1, 1178, 1918, 7050],\n",
       " 373: [72, 4705, 12616],\n",
       " 374: [3378, 2283, 17364, 25356],\n",
       " 375: [33345, 195],\n",
       " 376: [1619, 438],\n",
       " 377: [43, 6812, 6],\n",
       " 378: [1, 317, 6],\n",
       " 379: [645, 43, 47, 274, 597],\n",
       " 380: [597, 3927, 1179, 3836, 14077],\n",
       " 381: [75, 247],\n",
       " 382: [10091],\n",
       " 383: [32, 1560, 131, 5240],\n",
       " 384: [43],\n",
       " 385: [6626, 5574, 233, 75, 211],\n",
       " 386: [37, 102, 1042, 22, 120],\n",
       " 387: [40135, 3209, 20852, 119, 3039],\n",
       " 388: [72, 1427, 4030],\n",
       " 389: [5516, 138, 31348],\n",
       " 390: [242, 43, 4678],\n",
       " 391: [11352],\n",
       " 392: [7656, 451, 20213, 27037],\n",
       " 393: [32, 130, 309, 1157],\n",
       " 394: [138, 12572, 6, 7],\n",
       " 395: [323, 1356, 119],\n",
       " 396: [195],\n",
       " 397: [49403, 32813, 1743],\n",
       " 398: [46576, 33345, 20601, 32477],\n",
       " 399: [43, 597],\n",
       " 400: [3188, 853, 1679],\n",
       " 401: [3378],\n",
       " 402: [7968, 75, 853, 3579],\n",
       " 403: [17810, 6653],\n",
       " 404: [196],\n",
       " 405: [1002, 379, 834, 1702],\n",
       " 406: [43],\n",
       " 407: [37171, 45614],\n",
       " 408: [36457, 195, 41044, 31147],\n",
       " 409: [6922, 156, 37791],\n",
       " 410: [12081, 644, 647],\n",
       " 411: [130, 131],\n",
       " 412: [314, 407],\n",
       " 413: [1674, 1197, 10114],\n",
       " 414: [1674, 20219, 1470],\n",
       " 415: [1096, 1800, 75],\n",
       " 416: [1440, 1682],\n",
       " 417: [130],\n",
       " 418: [3364, 119],\n",
       " 419: [3379, 119, 25231],\n",
       " 420: [119, 11679],\n",
       " 421: [14400, 7, 747, 25072, 3604],\n",
       " 422: [177, 267, 4207],\n",
       " 423: [1, 317, 21565, 28910],\n",
       " 424: [624, 37, 1733],\n",
       " 425: [195, 247],\n",
       " 426: [1, 17271],\n",
       " 427: [608, 75, 8204],\n",
       " 428: [33, 6751],\n",
       " 429: [26744, 1674],\n",
       " 430: [11352, 1],\n",
       " 431: [15025, 37],\n",
       " 432: [20601, 41258, 195, 32477],\n",
       " 433: [17570, 435],\n",
       " 434: [32],\n",
       " 435: [22, 23],\n",
       " 436: [824, 1256, 75, 228],\n",
       " 437: [1, 9],\n",
       " 438: [130, 131, 284],\n",
       " 439: [112, 75, 2735],\n",
       " 440: [5735],\n",
       " 441: [1002, 379, 1702],\n",
       " 442: [1674, 1085],\n",
       " 443: [86, 1674, 22526],\n",
       " 444: [1674, 75, 52],\n",
       " 445: [1208, 388, 292],\n",
       " 446: [1470, 5367],\n",
       " 447: [1674, 75],\n",
       " 448: [120, 75, 323, 622],\n",
       " 449: [18876],\n",
       " 450: [432, 3677, 10998],\n",
       " 451: [130, 18306, 10091, 1042, 952],\n",
       " 452: [384, 38, 295],\n",
       " 453: [3849, 130, 3259],\n",
       " 454: [11, 10, 43, 182],\n",
       " 455: [505, 2279, 75, 9251],\n",
       " 456: [1674, 10683, 511],\n",
       " 457: [195],\n",
       " 458: [664, 10858],\n",
       " 459: [1, 19, 793, 39],\n",
       " 460: [113, 323, 2009, 1623],\n",
       " 461: [3378],\n",
       " 462: [195, 644],\n",
       " 463: [1, 317, 862],\n",
       " 464: [32, 68, 549, 14],\n",
       " 465: [41985, 195, 597],\n",
       " 466: [11210, 43, 1733],\n",
       " 467: [12392],\n",
       " 468: [610, 611, 195],\n",
       " 469: [1674, 75, 5140, 9999],\n",
       " 470: [3424, 168, 9, 4689, 476],\n",
       " 471: [1674, 17051, 20, 22],\n",
       " 472: [26, 37, 22],\n",
       " 473: [2621, 3565, 6293],\n",
       " 474: [130, 41258, 1085, 1674],\n",
       " 475: [24504, 3244, 853, 11583],\n",
       " 476: [105, 75, 13017],\n",
       " 477: [177, 387, 6, 119],\n",
       " 478: [1, 4110],\n",
       " 479: [288, 1, 810, 2764, 920],\n",
       " 480: [7656],\n",
       " 481: [6922, 29941, 9942],\n",
       " 482: [32],\n",
       " 483: [320, 22, 31],\n",
       " 484: [50, 8013, 138],\n",
       " 485: [2306, 228, 327],\n",
       " 486: [747, 2228, 7],\n",
       " 487: [50],\n",
       " 488: [75],\n",
       " 489: [43, 22],\n",
       " 490: [33, 75, 5014],\n",
       " 491: [72],\n",
       " 492: [26944, 5295],\n",
       " 493: [954, 43, 102, 20983],\n",
       " 494: [33765, 4055],\n",
       " 495: [6, 7, 17073, 27574, 12572],\n",
       " 496: [3378, 10, 30315, 2636],\n",
       " 497: [108, 333, 52, 399],\n",
       " 498: [597, 7],\n",
       " 499: [1042, 75],\n",
       " 500: [34, 4067, 570],\n",
       " 501: [1288, 812, 1356, 50, 439],\n",
       " 502: [195, 211],\n",
       " 503: [2009, 119],\n",
       " 504: [896, 195],\n",
       " 505: [3808],\n",
       " 506: [1, 181],\n",
       " 507: [33345, 24776, 31147, 29360, 31028],\n",
       " 508: [6922, 18725],\n",
       " 509: [4795],\n",
       " 510: [72, 505, 4723, 798],\n",
       " 511: [138, 8013, 1197],\n",
       " 512: [138],\n",
       " 513: [597, 6],\n",
       " 514: [1416, 114, 37],\n",
       " 515: [119],\n",
       " 516: [6, 7],\n",
       " 517: [15408, 33, 68],\n",
       " 518: [2009, 119],\n",
       " 519: [466, 9388, 2654, 1674],\n",
       " 520: [32, 2, 5142],\n",
       " 521: [1674],\n",
       " 522: [1, 9437, 5895],\n",
       " 523: [6, 7],\n",
       " 524: [43],\n",
       " 525: [32],\n",
       " 526: [195, 597, 7],\n",
       " 527: [120, 439],\n",
       " 528: [7374],\n",
       " 529: [1882, 75, 461, 1679],\n",
       " 530: [138, 7925, 17762],\n",
       " 531: [30352, 1130, 43],\n",
       " 532: [138, 2686, 15986],\n",
       " 533: [337, 222, 57],\n",
       " 534: [43, 22],\n",
       " 535: [1674, 28739],\n",
       " 536: [24504, 75, 853],\n",
       " 537: [32, 904, 363, 5837, 278],\n",
       " 538: [200, 33737, 26058, 3121],\n",
       " 539: [75, 116, 798],\n",
       " 540: [1088],\n",
       " 541: [89, 142],\n",
       " 542: [15658, 188, 85, 438],\n",
       " 543: [195, 597, 6],\n",
       " 544: [7584, 284],\n",
       " 545: [4464, 614, 10036, 1222],\n",
       " 546: [195, 6, 7],\n",
       " 547: [1627, 13701, 119],\n",
       " 548: [274, 195, 597],\n",
       " 549: [105, 1743, 12849, 177, 119],\n",
       " 550: [32, 2796, 910],\n",
       " 551: [12572, 7, 6, 28919],\n",
       " 552: [37, 2024, 22, 119, 21850],\n",
       " 553: [50, 22627, 138],\n",
       " 554: [12572, 6, 7],\n",
       " 555: [4681, 333],\n",
       " 556: [1, 323, 116, 1535],\n",
       " 557: [272, 75, 102],\n",
       " 558: [16, 673, 509, 119],\n",
       " 559: [37, 183],\n",
       " 560: [119, 32430, 1175],\n",
       " 561: [6537, 13859, 413, 43],\n",
       " 562: [1, 2460, 317, 247],\n",
       " 563: [113, 119, 4854, 238],\n",
       " 564: [119, 2621, 19598, 19431],\n",
       " 565: [4307, 119],\n",
       " 566: [27049, 43, 2341, 22],\n",
       " 567: [130],\n",
       " 568: [3751],\n",
       " 569: [75, 181],\n",
       " 570: [2699, 222],\n",
       " 571: [145, 6530, 284, 6],\n",
       " 572: [9557, 23167],\n",
       " 573: [34640, 27049, 43],\n",
       " 574: [29890, 13634, 1736, 73, 21113],\n",
       " 575: [1674, 7925],\n",
       " 576: [2597, 119],\n",
       " 577: [7656],\n",
       " 578: [22],\n",
       " 579: [1, 317, 9],\n",
       " 580: [75, 247],\n",
       " 581: [32, 27],\n",
       " 582: [1, 339, 2893, 9],\n",
       " 583: [597, 26181],\n",
       " 584: [1042, 195],\n",
       " 585: [195, 7467, 597, 15833, 1470],\n",
       " 586: [130, 1674, 1523, 23, 1627],\n",
       " 587: [5056],\n",
       " 588: [597, 7],\n",
       " 589: [9360, 21850, 119],\n",
       " 590: [5035, 52],\n",
       " 591: [72, 597],\n",
       " 592: [195, 1256, 31147, 78, 116],\n",
       " 593: [72, 1, 317],\n",
       " 594: [195, 597, 6],\n",
       " 595: [33737, 6, 7],\n",
       " 596: [1, 162, 126],\n",
       " 597: [38586, 45202],\n",
       " 598: [32, 293, 43, 272, 1042],\n",
       " 599: [80, 38],\n",
       " 600: [4705, 16419, 772],\n",
       " 601: [386, 405, 183],\n",
       " 602: [1719],\n",
       " 603: [7656, 36337, 2279],\n",
       " 604: [4366, 336, 3378, 3380, 5628],\n",
       " 605: [22],\n",
       " 606: [1, 318],\n",
       " 607: [8095],\n",
       " 608: [4625, 130, 131, 2365],\n",
       " 609: [43],\n",
       " 610: [50, 114],\n",
       " 611: [481, 119],\n",
       " 612: [17019, 195],\n",
       " 613: [18362, 75, 1674],\n",
       " 614: [39249, 130],\n",
       " 615: [1, 7418, 3525],\n",
       " 616: [43, 2382, 399],\n",
       " 617: [2432, 37],\n",
       " 618: [34552, 34553],\n",
       " 619: [12420, 1861, 1674, 595, 851],\n",
       " 620: [6163],\n",
       " 621: [120, 1, 385],\n",
       " 622: [4657, 7],\n",
       " 623: [195, 407],\n",
       " 624: [32, 683],\n",
       " 625: [72, 1, 6996],\n",
       " 626: [2330, 222],\n",
       " 627: [33, 1555, 2356],\n",
       " 628: [195, 135, 10482, 597, 1013],\n",
       " 629: [24600, 5516, 1855, 23791],\n",
       " 630: [195, 2228],\n",
       " 631: [1, 19],\n",
       " 632: [274, 597],\n",
       " 633: [120, 43, 13859, 247],\n",
       " 634: [4161, 15210, 75],\n",
       " 635: [195, 597],\n",
       " 636: [32, 119, 6463],\n",
       " 637: [73, 1],\n",
       " 638: [130, 131, 10091, 242, 284],\n",
       " 639: [43, 37, 22],\n",
       " 640: [75, 52, 399],\n",
       " 641: [264, 7656, 22],\n",
       " 642: [317, 597, 5575],\n",
       " 643: [43, 22],\n",
       " 644: [195, 597],\n",
       " 645: [186, 438],\n",
       " 646: [43, 37, 22],\n",
       " 647: [17019, 195],\n",
       " 648: [456, 457, 43, 349],\n",
       " 649: [201, 1722, 195, 102],\n",
       " 650: [1122, 43],\n",
       " 651: [377, 8226, 723, 1743],\n",
       " 652: [6],\n",
       " 653: [177, 5444],\n",
       " 654: [43, 116, 910],\n",
       " 655: [748, 7],\n",
       " 656: [7419],\n",
       " 657: [75, 15111],\n",
       " 658: [1],\n",
       " 659: [2787, 644, 75, 26, 251],\n",
       " 660: [15625, 388, 701],\n",
       " 661: [1674, 75, 4239],\n",
       " 662: [37249, 42899, 41441],\n",
       " 663: [200, 92],\n",
       " 664: [29682],\n",
       " 665: [977, 68],\n",
       " 666: [43, 17019, 1951],\n",
       " 667: [1, 332, 317],\n",
       " 668: [195, 112, 9360, 119, 21850],\n",
       " 669: [245, 917],\n",
       " 670: [43, 15188],\n",
       " 671: [466, 75, 42, 1674],\n",
       " 672: [9360, 21850, 119, 25583],\n",
       " 673: [28841],\n",
       " 674: [177, 195, 597, 119],\n",
       " 675: [33345, 6, 7, 41450, 3604],\n",
       " 676: [1200, 75, 52],\n",
       " 677: [7416, 1, 37249, 16844],\n",
       " 678: [4457, 1348, 327],\n",
       " 679: [73, 1498, 166, 1],\n",
       " 680: [248, 83, 119],\n",
       " 681: [3536, 41],\n",
       " 682: [1317, 1581],\n",
       " 683: [177, 119],\n",
       " 684: [24992, 33345, 922, 31147],\n",
       " 685: [195, 597, 6],\n",
       " 686: [17288, 1841, 1227],\n",
       " 687: [1, 1178, 5779, 18036],\n",
       " 688: [23597, 1743],\n",
       " 689: [33345, 36457],\n",
       " 690: [1918],\n",
       " 691: [360],\n",
       " 692: [1130, 23],\n",
       " 693: [18, 757, 119],\n",
       " 694: [1674, 407],\n",
       " 695: [226, 2597, 102, 119],\n",
       " 696: [182, 295],\n",
       " 697: [177, 119],\n",
       " 698: [43, 1108],\n",
       " 699: [26, 5378, 5583],\n",
       " 700: [75],\n",
       " 701: [1002, 379],\n",
       " 702: [130, 284, 647],\n",
       " 703: [119],\n",
       " 704: [162, 535],\n",
       " 705: [130, 131, 34797, 4625, 2617],\n",
       " 706: [34451, 119, 3039],\n",
       " 707: [1130],\n",
       " 708: [1833, 60],\n",
       " 709: [195, 597],\n",
       " 710: [7656, 195, 2822],\n",
       " 711: [6922, 382, 30238],\n",
       " 712: [32, 116],\n",
       " 713: [1122, 43, 22, 23],\n",
       " 714: [7656, 195, 22974, 10247],\n",
       " 715: [33345],\n",
       " 716: [200, 3121, 195, 7656],\n",
       " 717: [1],\n",
       " 718: [119],\n",
       " 719: [28714],\n",
       " 720: [664, 506, 37],\n",
       " 721: [195, 6],\n",
       " 722: [1674, 75],\n",
       " 723: [75, 247],\n",
       " 724: [10, 75],\n",
       " 725: [17464],\n",
       " 726: [37, 22],\n",
       " 727: [1674],\n",
       " 728: [1],\n",
       " 729: [26181, 6],\n",
       " 730: [1470],\n",
       " 731: [200, 8099],\n",
       " 732: [46338, 43, 413],\n",
       " 733: [195, 6, 594, 597, 924],\n",
       " 734: [17346, 75, 2971],\n",
       " 735: [37, 38],\n",
       " 736: [1674, 16339],\n",
       " 737: [1, 154],\n",
       " 738: [1674, 1197, 10114],\n",
       " 739: [130, 131, 284, 4205],\n",
       " 740: [6, 7],\n",
       " 741: [18758, 1674, 13980, 22526],\n",
       " 742: [7656, 195, 447],\n",
       " 743: [333, 381, 438],\n",
       " 744: [40135, 4430, 2131, 20852, 309],\n",
       " 745: [323, 119],\n",
       " 746: [20601, 1674, 11876, 11222],\n",
       " 747: [32, 1750, 215],\n",
       " 748: [1, 228, 9, 61, 8413],\n",
       " 749: [43, 1951],\n",
       " 750: [195, 7, 597, 747],\n",
       " 751: [32, 1157, 6190],\n",
       " 752: [597],\n",
       " 753: [1, 1058, 530, 662, 124],\n",
       " 754: [274, 43, 597, 22],\n",
       " 755: [31, 22, 183],\n",
       " 756: [4009, 1674, 1085],\n",
       " 757: [1674, 14111],\n",
       " 758: [513, 26, 404, 119],\n",
       " 759: [38, 382],\n",
       " 760: [1, 181, 9],\n",
       " 761: [1, 19],\n",
       " 762: [1185, 195, 116, 12537, 447],\n",
       " 763: [4344, 71],\n",
       " 764: [34, 1316],\n",
       " 765: [4993, 797, 119],\n",
       " 766: [43, 247],\n",
       " 767: [120, 209, 2316, 119],\n",
       " 768: [113, 2009],\n",
       " 769: [7656, 183],\n",
       " 770: [32, 3514, 23520],\n",
       " 771: [114, 23],\n",
       " 772: [1699, 6],\n",
       " 773: [360],\n",
       " 774: [33345, 33705],\n",
       " 775: [1, 10, 247],\n",
       " 776: [1, 33403, 32780, 38237],\n",
       " 777: [43, 331, 510],\n",
       " 778: [226, 75, 52, 3319],\n",
       " 779: [43, 37, 22],\n",
       " 780: [195, 23117],\n",
       " 781: [1674, 24403],\n",
       " 782: [25047],\n",
       " 783: [119],\n",
       " 784: [36742, 31511],\n",
       " 785: [38, 10, 182],\n",
       " 786: [418, 305, 1905, 119, 14457],\n",
       " 787: [1057, 75],\n",
       " 788: [2488, 3307, 1197],\n",
       " 789: [264, 1520, 43, 1108],\n",
       " 790: [9],\n",
       " 791: [19376, 3378, 13045],\n",
       " 792: [15833, 1470],\n",
       " 793: [14657],\n",
       " 794: [72, 162],\n",
       " 795: [112, 43, 102],\n",
       " 796: [138, 195, 597, 1045],\n",
       " 797: [195, 597, 6],\n",
       " 798: [5035, 52],\n",
       " 799: [656, 68],\n",
       " 800: [177],\n",
       " 801: [73, 119],\n",
       " 802: [130, 12614],\n",
       " 803: [1, 1498],\n",
       " 804: [15483, 1317, 247],\n",
       " 805: [1674],\n",
       " 806: [75],\n",
       " 807: [44113, 1, 204, 7374],\n",
       " 808: [75],\n",
       " 809: [953, 1148, 772, 9254],\n",
       " 810: [138, 22],\n",
       " 811: [1130, 955, 22733],\n",
       " 812: [131, 284, 2365, 332],\n",
       " 813: [177, 47, 119],\n",
       " 814: [1],\n",
       " 815: [75, 3195, 116, 78],\n",
       " 816: [388],\n",
       " 817: [1042, 1085, 1674],\n",
       " 818: [1],\n",
       " 819: [20601, 10091, 29661],\n",
       " 820: [119, 25231],\n",
       " 821: [40, 37, 38],\n",
       " 822: [195, 597],\n",
       " 823: [2010, 1156, 1567],\n",
       " 824: [145, 7, 6, 2351],\n",
       " 825: [64, 354, 53, 842],\n",
       " 826: [1, 9, 333, 1999, 406],\n",
       " 827: [43, 2686],\n",
       " 828: [24504, 75, 22, 1679],\n",
       " 829: [33737, 41258],\n",
       " 830: [130, 596, 2463],\n",
       " 831: [7656],\n",
       " 832: [12849, 1522, 476, 1743],\n",
       " 833: [200],\n",
       " 834: [2131, 34451, 43397, 36023],\n",
       " 835: [2339, 102, 13479, 43, 379],\n",
       " 836: [7401, 1130, 21468, 28911],\n",
       " 837: [9, 251, 41, 5063],\n",
       " 838: [130, 1835],\n",
       " 839: [1, 3773],\n",
       " 840: [403, 21],\n",
       " 841: [4625, 130, 10091],\n",
       " 842: [21024, 57, 222, 13551],\n",
       " 843: [2215, 1096, 1097, 75, 1855],\n",
       " 844: [72, 1118, 6],\n",
       " 845: [17019, 29996],\n",
       " 846: [2789, 177, 2009, 3909],\n",
       " 847: [15136, 4396, 7],\n",
       " 848: [120, 43],\n",
       " 849: [33, 34, 11779, 7467],\n",
       " 850: [388, 60, 327],\n",
       " 851: [120, 247, 75, 3111],\n",
       " 852: [530, 131, 662],\n",
       " 853: [75, 340, 1502],\n",
       " 854: [747, 6, 7],\n",
       " 855: [1674],\n",
       " 856: [138, 8013],\n",
       " 857: [33],\n",
       " 858: [4016],\n",
       " 859: [9432, 75, 2735],\n",
       " 860: [1674, 2098, 6],\n",
       " 861: [195, 43, 47, 274, 597],\n",
       " 862: [195, 597],\n",
       " 863: [1674, 10165, 3143],\n",
       " 864: [130, 131, 22414],\n",
       " 865: [15833, 1470],\n",
       " 866: [1317, 1581, 1582],\n",
       " 867: [44890, 37171],\n",
       " 868: [32, 578, 75],\n",
       " 869: [257, 130, 2670, 463],\n",
       " 870: [239, 336, 532, 4950, 27],\n",
       " 871: [75, 853, 24504, 42296, 4986],\n",
       " 872: [2009, 3209, 119],\n",
       " 873: [32],\n",
       " 874: [43, 195, 15833, 1470],\n",
       " 875: [130, 131, 6094, 6530],\n",
       " 876: [130, 10091, 11693],\n",
       " 877: [1, 17019, 195, 6],\n",
       " 878: [597],\n",
       " 879: [1, 34, 228],\n",
       " 880: [130, 131, 748, 4397, 9595],\n",
       " 881: [2405, 26014],\n",
       " 882: [5832, 43],\n",
       " 883: [353, 188],\n",
       " 884: [803, 6, 7, 745, 2228],\n",
       " 885: [17019, 195],\n",
       " 886: [50, 38310],\n",
       " 887: [112, 1, 525],\n",
       " 888: [188],\n",
       " 889: [4625, 130, 131, 2365],\n",
       " 890: [320, 174, 175],\n",
       " 891: [177, 274],\n",
       " 892: [37, 38, 23],\n",
       " 893: [274, 75, 597, 1045],\n",
       " 894: [4122, 22733, 1999],\n",
       " 895: [294, 3378, 3443, 119, 281],\n",
       " 896: [1249, 43],\n",
       " 897: [195, 47, 177, 597, 119],\n",
       " 898: [1561, 18, 75],\n",
       " 899: [476, 174],\n",
       " 900: [32, 2033, 282],\n",
       " 901: [14112, 377, 1674, 20068],\n",
       " 902: [112, 113, 119, 40152],\n",
       " 903: [1042, 22],\n",
       " 904: [284],\n",
       " 905: [25608, 8418, 195],\n",
       " 906: [7656, 195, 20213],\n",
       " 907: [920, 1, 289],\n",
       " 908: [3426, 37],\n",
       " 909: [195, 6, 510],\n",
       " 910: [26, 6, 7],\n",
       " 911: [1, 1187, 5875],\n",
       " 912: [50, 9004],\n",
       " 913: [120, 195, 597, 247],\n",
       " 914: [113, 299, 119],\n",
       " 915: [32, 102, 112, 7572, 27],\n",
       " 916: [43, 1084, 22, 1054],\n",
       " 917: [1833, 1042, 43],\n",
       " 918: [75, 181],\n",
       " 919: [1674],\n",
       " 920: [102, 17019, 597, 195],\n",
       " 921: [201, 43, 597, 6],\n",
       " 922: [1, 809, 398, 145, 1490],\n",
       " 923: [17504, 33, 26336],\n",
       " 924: [4016],\n",
       " 925: [33345, 195, 645, 31147, 12572],\n",
       " 926: [41, 683, 37],\n",
       " 927: [284, 1237, 645, 7],\n",
       " 928: [21216, 75],\n",
       " 929: [3345, 1108],\n",
       " 930: [9, 38804, 41],\n",
       " 931: [3800, 130, 131, 284],\n",
       " 932: [75, 340],\n",
       " 933: [720, 1, 84, 9],\n",
       " 934: [130, 131, 10, 208, 4957],\n",
       " 935: [382],\n",
       " 936: [195, 12572, 597, 7],\n",
       " 937: [3209, 683, 119],\n",
       " 938: [130],\n",
       " 939: [17570],\n",
       " 940: [1674],\n",
       " 941: [27049, 195, 597],\n",
       " 942: [424, 119],\n",
       " 943: [34640, 27049, 17019, 43],\n",
       " 944: [75],\n",
       " 945: [130, 7228, 757],\n",
       " 946: [6761, 43, 47, 597, 922],\n",
       " 947: [320, 73, 37, 1],\n",
       " 948: [43, 1565],\n",
       " 949: [228, 367],\n",
       " 950: [112, 75, 83, 566],\n",
       " 951: [27953, 138, 8013, 8014],\n",
       " 952: [1130, 6, 7],\n",
       " 953: [1, 4496, 241, 3294, 1951],\n",
       " 954: [13843, 119],\n",
       " 955: [461, 11294, 5575],\n",
       " 956: [162, 204, 1200, 7443, 30398],\n",
       " 957: [34025],\n",
       " 958: [33, 4183],\n",
       " 959: [114],\n",
       " 960: [43, 29100],\n",
       " 961: [15833, 1470, 14542],\n",
       " 962: [37, 22],\n",
       " 963: [43, 644, 102],\n",
       " 964: [17489, 11534, 535],\n",
       " 965: [528, 7656],\n",
       " 966: [195],\n",
       " 967: [195, 597],\n",
       " 968: [44890, 37171],\n",
       " 969: [6, 7],\n",
       " 970: [50, 3062, 2946],\n",
       " 971: [32, 6644, 9780],\n",
       " 972: [3632, 1, 413, 951],\n",
       " 973: [1, 19],\n",
       " 974: [33345, 21506, 31147],\n",
       " 975: [647],\n",
       " 976: [130, 131, 284, 27546],\n",
       " 977: [1826, 75, 1679],\n",
       " 978: [50, 138, 183],\n",
       " 979: [49033, 323, 229, 119],\n",
       " 980: [32, 33, 555, 230],\n",
       " 981: [1, 778, 19, 386],\n",
       " 982: [152, 1, 594, 910],\n",
       " 983: [2009],\n",
       " 984: [24145, 3258, 1674],\n",
       " 985: [3698],\n",
       " 986: [11352, 1835],\n",
       " 987: [1130, 44],\n",
       " 988: [7656, 23369, 3698, 15459],\n",
       " 989: [72, 33345, 42070],\n",
       " 990: [75, 112, 3319, 120, 3199],\n",
       " 991: [119],\n",
       " 992: [4625, 130, 6201],\n",
       " 993: [27177, 1674],\n",
       " 994: [354, 139, 1261],\n",
       " 995: [75, 228, 102],\n",
       " 996: [43, 1101],\n",
       " 997: [72, 1, 37, 38],\n",
       " 998: [29286, 1046],\n",
       " 999: [66, 130],\n",
       " ...}"
      ]
     },
     "execution_count": 13,
     "metadata": {},
     "output_type": "execute_result"
    }
   ],
   "source": [
    "train_answer_dict"
   ]
  },
  {
   "cell_type": "code",
   "execution_count": null,
   "metadata": {},
   "outputs": [],
   "source": []
  }
 ],
 "metadata": {
  "kernelspec": {
   "display_name": "Python 3",
   "language": "python",
   "name": "python3"
  },
  "language_info": {
   "codemirror_mode": {
    "name": "ipython",
    "version": 3
   },
   "file_extension": ".py",
   "mimetype": "text/x-python",
   "name": "python",
   "nbconvert_exporter": "python",
   "pygments_lexer": "ipython3",
   "version": "3.8.5"
  }
 },
 "nbformat": 4,
 "nbformat_minor": 4
}
