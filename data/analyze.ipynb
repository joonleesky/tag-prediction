{
 "cells": [
  {
   "cell_type": "code",
   "execution_count": 1,
   "metadata": {},
   "outputs": [],
   "source": [
    "import pickle\n",
    "from collections import defaultdict\n",
    "from matplotlib import pyplot as plt\n",
    "import numpy as np\n",
    "import itertools\n",
    "import tqdm\n",
    "from sklearn.metrics import f1_score"
   ]
  },
  {
   "cell_type": "markdown",
   "metadata": {},
   "source": [
    "### MathOverflow"
   ]
  },
  {
   "cell_type": "code",
   "execution_count": 2,
   "metadata": {},
   "outputs": [],
   "source": [
    "data_type = 'mathoverflow'\n",
    "max_tag_list = 1554"
   ]
  },
  {
   "cell_type": "code",
   "execution_count": 3,
   "metadata": {},
   "outputs": [
    {
     "name": "stdout",
     "output_type": "stream",
     "text": [
      "5446\n",
      "73851\n"
     ]
    }
   ],
   "source": [
    "answerer_info_dict = defaultdict(list)  # {answerer: [q1, q3, ..., qn]}\n",
    "question_info_dict = defaultdict(list)  # {question: [a2, a5, ..., an]}\n",
    "\n",
    "# 1. Build answerer_info_dict & question_info_dict\n",
    "with open(data_type+'/answerer_info_'+data_type+'.txt') as f:\n",
    "    answerer_info = f.read()\n",
    "answerer_info = answerer_info.split('\\n')[:-1]\n",
    "for answerer_idx, questions in enumerate(answerer_info):\n",
    "    questions = list(map(int, questions.split(' ')))\n",
    "    answerer_info_dict[answerer_idx] = questions\n",
    "    for question in questions:\n",
    "        question_info_dict[question].append(answerer_idx)\n",
    "        \n",
    "print(len(answerer_info_dict))\n",
    "print(len(question_info_dict))"
   ]
  },
  {
   "cell_type": "markdown",
   "metadata": {},
   "source": [
    "### No. of answerers per question"
   ]
  },
  {
   "cell_type": "code",
   "execution_count": 4,
   "metadata": {},
   "outputs": [
    {
     "data": {
      "text/plain": [
       "173"
      ]
     },
     "execution_count": 4,
     "metadata": {},
     "output_type": "execute_result"
    }
   ],
   "source": [
    "x = []\n",
    "for answerers in question_info_dict.values():\n",
    "    x.append(len(answerers))\n",
    "max(x)"
   ]
  },
  {
   "cell_type": "code",
   "execution_count": 5,
   "metadata": {},
   "outputs": [
    {
     "data": {
      "image/png": "[encoded data removed]",
      "text/plain": [
       "<Figure size 432x288 with 1 Axes>"
      ]
     },
     "metadata": {
      "needs_background": "light"
     },
     "output_type": "display_data"
    }
   ],
   "source": [
    "plt.hist(np.array(x), bins=np.arange(50)*2)\n",
    "plt.show()"
   ]
  },
  {
   "cell_type": "code",
   "execution_count": 6,
   "metadata": {},
   "outputs": [
    {
     "data": {
      "image/png": "[encoded data removed]",
      "text/plain": [
       "<Figure size 432x288 with 1 Axes>"
      ]
     },
     "metadata": {
      "needs_background": "light"
     },
     "output_type": "display_data"
    },
    {
     "name": "stdout",
     "output_type": "stream",
     "text": [
      "[0.         0.61618665 0.84979215 0.93049519 0.96203166 0.97633072\n",
      " 0.9835615  0.98766435 0.99037251 0.99218697 0.9933921  0.99447536\n",
      " 0.99526073 0.99566695 0.99620858 0.99653356 0.99689916 0.9972106\n",
      " 0.99746787 0.99768453]\n"
     ]
    }
   ],
   "source": [
    "hist, bins = np.histogram(x, bins=np.arange(173))\n",
    "cdf = np.cumsum(hist) / len(question_info_dict)\n",
    "plt.plot(np.arange(20), cdf[:20])\n",
    "plt.show()\n",
    "print(cdf[:20])"
   ]
  },
  {
   "cell_type": "markdown",
   "metadata": {},
   "source": [
    "### No. of questions per answerer"
   ]
  },
  {
   "cell_type": "code",
   "execution_count": 7,
   "metadata": {},
   "outputs": [
    {
     "data": {
      "text/plain": [
       "1784"
      ]
     },
     "execution_count": 7,
     "metadata": {},
     "output_type": "execute_result"
    }
   ],
   "source": [
    "x = []\n",
    "for questions in answerer_info_dict.values():\n",
    "    x.append(len(questions))\n",
    "max(x)"
   ]
  },
  {
   "cell_type": "code",
   "execution_count": 8,
   "metadata": {},
   "outputs": [
    {
     "data": {
      "image/png": "[encoded data removed]",
      "text/plain": [
       "<Figure size 432x288 with 1 Axes>"
      ]
     },
     "metadata": {
      "needs_background": "light"
     },
     "output_type": "display_data"
    }
   ],
   "source": [
    "plt.hist(np.array(x), bins=np.arange(100)*18)\n",
    "plt.show()"
   ]
  },
  {
   "cell_type": "code",
   "execution_count": 9,
   "metadata": {},
   "outputs": [
    {
     "data": {
      "image/png": "[encoded data removed]",
      "text/plain": [
       "<Figure size 432x288 with 1 Axes>"
      ]
     },
     "metadata": {
      "needs_background": "light"
     },
     "output_type": "display_data"
    },
    {
     "name": "stdout",
     "output_type": "stream",
     "text": [
      "[0.         0.         0.24972457 0.38009548 0.47300771 0.53341902\n",
      " 0.58097686 0.61953728 0.64891664 0.67352185 0.69739258 0.71446934\n",
      " 0.7308116  0.74293059 0.75358061 0.76184355 0.7735953  0.78295997\n",
      " 0.79177378 0.80077121 0.80756519 0.81399192 0.81968417 0.82794712\n",
      " 0.83272126 0.83694455 0.84153507 0.84575835 0.8496144  0.85255233\n",
      " 0.85585751 0.85879545 0.86118252 0.8654058  0.86907822 0.87256702\n",
      " 0.8758722  0.87899376 0.8802791  0.88229893 0.88560411 0.88835843\n",
      " 0.89111274 0.89258171 0.89386706 0.89533603 0.89809034 0.90011017\n",
      " 0.90139552 0.90378259]\n"
     ]
    }
   ],
   "source": [
    "hist, bins = np.histogram(x, bins=np.arange(1784))\n",
    "cdf = np.cumsum(hist) / len(answerer_info_dict)\n",
    "plt.plot(np.arange(50), cdf[:50])\n",
    "plt.show()\n",
    "print(cdf[:50])"
   ]
  },
  {
   "cell_type": "markdown",
   "metadata": {},
   "source": [
    "### No. of tags per question (train)"
   ]
  },
  {
   "cell_type": "code",
   "execution_count": 10,
   "metadata": {},
   "outputs": [
    {
     "name": "stdout",
     "output_type": "stream",
     "text": [
      "59080\n",
      "1429\n"
     ]
    }
   ],
   "source": [
    "with open(data_type+'/train_answer_'+data_type+'.txt') as f:\n",
    "    train_answer = f.read()\n",
    "\n",
    "train_answer = train_answer.split('\\n')[:-1]\n",
    "train_answer_dict = {}\n",
    "tags_list = []\n",
    "for answer_idx, tags in enumerate(train_answer):\n",
    "    tags = list(map(int, tags.split(' ')))\n",
    "    train_answer_dict[answer_idx] = tags\n",
    "    tags_list += tags\n",
    "\n",
    "print(len(train_answer_dict))\n",
    "print(len(set(tags_list)))"
   ]
  },
  {
   "cell_type": "code",
   "execution_count": 11,
   "metadata": {},
   "outputs": [
    {
     "data": {
      "text/plain": [
       "5"
      ]
     },
     "execution_count": 11,
     "metadata": {},
     "output_type": "execute_result"
    }
   ],
   "source": [
    "x = []\n",
    "for tags in train_answer_dict.values():\n",
    "    x.append(len(tags))\n",
    "max(x)"
   ]
  },
  {
   "cell_type": "code",
   "execution_count": 12,
   "metadata": {},
   "outputs": [
    {
     "data": {
      "image/png": "[encoded data removed]",
      "text/plain": [
       "<Figure size 432x288 with 1 Axes>"
      ]
     },
     "metadata": {
      "needs_background": "light"
     },
     "output_type": "display_data"
    }
   ],
   "source": [
    "plt.hist(np.array(x), bins=np.arange(7))\n",
    "plt.show()"
   ]
  },
  {
   "cell_type": "code",
   "execution_count": 13,
   "metadata": {},
   "outputs": [
    {
     "name": "stderr",
     "output_type": "stream",
     "text": [
      "100%|██████████| 5446/5446 [01:20<00:00, 67.68it/s] "
     ]
    },
    {
     "name": "stdout",
     "output_type": "stream",
     "text": [
      "521\n",
      "0.27423497244137385\n"
     ]
    },
    {
     "name": "stderr",
     "output_type": "stream",
     "text": [
      "\n"
     ]
    }
   ],
   "source": [
    "with open(data_type+'/train_query_'+data_type+'.txt') as f:\n",
    "    train_query = f.read()\n",
    "train_query = train_query.split('\\n')[:-1]\n",
    "    \n",
    "x = []\n",
    "overlap = []\n",
    "for questions in tqdm.tqdm(answerer_info_dict.values()):\n",
    "    tag_list = []\n",
    "    for question in questions:\n",
    "        if str(question) in train_query:\n",
    "            tag_list.append(train_answer_dict[train_query.index(str(question))])\n",
    "    tag_list = list(itertools.chain.from_iterable(tag_list))\n",
    "    distinct_tag_list = set(tag_list)\n",
    "    \n",
    "    if len(tag_list) > 0:\n",
    "        x.append(len(distinct_tag_list))\n",
    "        overlap.append(len(distinct_tag_list)/len(tag_list))\n",
    "print(max(x))\n",
    "print(1 - np.mean(overlap))"
   ]
  },
  {
   "cell_type": "markdown",
   "metadata": {},
   "source": [
    "### Baseline"
   ]
  },
  {
   "cell_type": "code",
   "execution_count": 14,
   "metadata": {},
   "outputs": [],
   "source": [
    "with open(data_type + '.pickle', 'rb') as f:\n",
    "    data = pickle.load(f)\n",
    "\n",
    "question_info_dict = data['question_info_dict']\n",
    "answerer_info_dict = data['answerer_info_dict']\n",
    "question_to_tags = data['question_to_tags']\n",
    "val_data = data['val']\n",
    "val_query = val_data['question_idxes']\n",
    "val_label = val_data['labels']"
   ]
  },
  {
   "cell_type": "code",
   "execution_count": 15,
   "metadata": {},
   "outputs": [
    {
     "name": "stderr",
     "output_type": "stream",
     "text": [
      "7385it [00:03, 2005.40it/s]\n"
     ]
    },
    {
     "name": "stdout",
     "output_type": "stream",
     "text": [
      "th:  0  f1:0.027\n",
      "th:  5  f1:0.103\n",
      "th: 10  f1:0.143\n",
      "th: 15  f1:0.164\n",
      "th: 20  f1:0.182\n",
      "th: 25  f1:0.193\n",
      "th: 30  f1:0.194\n",
      "th: 35  f1:0.194\n",
      "th: 40  f1:0.192\n",
      "th: 45  f1:0.189\n",
      "th: 50  f1:0.184\n",
      "th: 55  f1:0.179\n",
      "th: 60  f1:0.176\n",
      "th: 65  f1:0.173\n",
      "th: 70  f1:0.167\n",
      "th: 75  f1:0.161\n",
      "th: 80  f1:0.158\n",
      "th: 85  f1:0.152\n",
      "th: 90  f1:0.145\n",
      "th: 95  f1:0.140\n"
     ]
    }
   ],
   "source": [
    "f1_dict = defaultdict(list)\n",
    "y_pred_list = []\n",
    "y_true_list = []\n",
    "for idx, question_idx in tqdm.tqdm(enumerate(val_query)):\n",
    "    labels = val_label[idx]\n",
    "    tag_list = []\n",
    "    answerers = question_info_dict[question_idx]\n",
    "    for answerer in answerers:\n",
    "        question_from_answerer = answerer_info_dict[answerer]\n",
    "        for question in question_from_answerer:\n",
    "            if question in question_to_tags:\n",
    "                tags = question_to_tags[question]\n",
    "                tag_list.append(tags)\n",
    "                \n",
    "    tag_list = list(itertools.chain.from_iterable(tag_list))\n",
    "    y_pred = np.zeros(max_tag_list+100)\n",
    "    for tag in tag_list:\n",
    "        y_pred[tag] += 1\n",
    "    \n",
    "    y_true = np.zeros(max_tag_list+100)\n",
    "    for tag in labels:\n",
    "        y_true[tag] = 1\n",
    "    \n",
    "    y_pred_list.append(y_pred)\n",
    "    y_true_list.append(y_true)\n",
    "\n",
    "thresholds = np.arange(0, 100, 5)\n",
    "for th in thresholds:\n",
    "    f1 = f1_score(np.array(y_true_list), np.array(y_pred_list)>th, average='micro')\n",
    "    print('th:%3d  f1:%.3f'%(th, f1))"
   ]
  },
  {
   "cell_type": "markdown",
   "metadata": {},
   "source": [
    "### StackOverflow"
   ]
  },
  {
   "cell_type": "code",
   "execution_count": 16,
   "metadata": {},
   "outputs": [],
   "source": [
    "data_type = 'stackoverflow'\n",
    "max_tag_list = 65520"
   ]
  },
  {
   "cell_type": "code",
   "execution_count": 17,
   "metadata": {},
   "outputs": [
    {
     "name": "stdout",
     "output_type": "stream",
     "text": [
      "10509\n",
      "119630\n"
     ]
    }
   ],
   "source": [
    "answerer_info_dict = defaultdict(list)  # {answerer: [q1, q3, ..., qn]}\n",
    "question_info_dict = defaultdict(list)  # {question: [a2, a5, ..., an]}\n",
    "\n",
    "# 1. Build answerer_info_dict & question_info_dict\n",
    "with open(data_type+'/answerer_info_'+data_type+'.txt') as f:\n",
    "    answerer_info = f.read()\n",
    "answerer_info = answerer_info.split('\\n')[:-1]\n",
    "for answerer_idx, questions in enumerate(answerer_info):\n",
    "    questions = list(map(int, questions.split(' ')))\n",
    "    answerer_info_dict[answerer_idx] = questions\n",
    "    for question in questions:\n",
    "        question_info_dict[question].append(answerer_idx)\n",
    "        \n",
    "print(len(answerer_info_dict))\n",
    "print(len(question_info_dict))"
   ]
  },
  {
   "cell_type": "markdown",
   "metadata": {},
   "source": [
    "### No. of answerers per question"
   ]
  },
  {
   "cell_type": "code",
   "execution_count": 18,
   "metadata": {},
   "outputs": [
    {
     "data": {
      "text/plain": [
       "12"
      ]
     },
     "execution_count": 18,
     "metadata": {},
     "output_type": "execute_result"
    }
   ],
   "source": [
    "x = []\n",
    "for answerers in question_info_dict.values():\n",
    "    x.append(len(answerers))\n",
    "max(x)"
   ]
  },
  {
   "cell_type": "code",
   "execution_count": 19,
   "metadata": {},
   "outputs": [
    {
     "data": {
      "image/png": "[encoded data removed]",
      "text/plain": [
       "<Figure size 432x288 with 1 Axes>"
      ]
     },
     "metadata": {
      "needs_background": "light"
     },
     "output_type": "display_data"
    }
   ],
   "source": [
    "plt.hist(np.array(x), bins=np.arange(12))\n",
    "plt.show()"
   ]
  },
  {
   "cell_type": "code",
   "execution_count": 20,
   "metadata": {},
   "outputs": [
    {
     "data": {
      "image/png": "[encoded data removed]",
      "text/plain": [
       "<Figure size 432x288 with 1 Axes>"
      ]
     },
     "metadata": {
      "needs_background": "light"
     },
     "output_type": "display_data"
    },
    {
     "name": "stdout",
     "output_type": "stream",
     "text": [
      "[0.         0.98449386 0.99938979 0.99994149 0.9999582  0.99998328\n",
      " 0.99998328 0.99998328 0.99999164 0.99999164 0.99999164 1.        ]\n"
     ]
    }
   ],
   "source": [
    "hist, bins = np.histogram(x, bins=np.arange(13))\n",
    "cdf = np.cumsum(hist) / len(question_info_dict)\n",
    "plt.plot(np.arange(12), cdf[:12])\n",
    "plt.show()\n",
    "print(cdf[:12])"
   ]
  },
  {
   "cell_type": "markdown",
   "metadata": {},
   "source": [
    "### No. of questions per answerer"
   ]
  },
  {
   "cell_type": "code",
   "execution_count": 21,
   "metadata": {},
   "outputs": [
    {
     "data": {
      "text/plain": [
       "1682"
      ]
     },
     "execution_count": 21,
     "metadata": {},
     "output_type": "execute_result"
    }
   ],
   "source": [
    "x = []\n",
    "for questions in answerer_info_dict.values():\n",
    "    x.append(len(questions))\n",
    "max(x)"
   ]
  },
  {
   "cell_type": "code",
   "execution_count": 22,
   "metadata": {},
   "outputs": [
    {
     "data": {
      "image/png": "[encoded data removed]",
      "text/plain": [
       "<Figure size 432x288 with 1 Axes>"
      ]
     },
     "metadata": {
      "needs_background": "light"
     },
     "output_type": "display_data"
    }
   ],
   "source": [
    "plt.hist(np.array(x), bins=np.arange(100)*17)\n",
    "plt.show()"
   ]
  },
  {
   "cell_type": "code",
   "execution_count": 23,
   "metadata": {},
   "outputs": [
    {
     "data": {
      "image/png": "[encoded data removed]",
      "text/plain": [
       "<Figure size 432x288 with 1 Axes>"
      ]
     },
     "metadata": {
      "needs_background": "light"
     },
     "output_type": "display_data"
    },
    {
     "name": "stdout",
     "output_type": "stream",
     "text": [
      "[0.         0.         0.30098011 0.46493482 0.56437339 0.63526501\n",
      " 0.68236749 0.72337996 0.75478162 0.77790465 0.79874393 0.81606242\n",
      " 0.83119231 0.84337235 0.85707489 0.86754211 0.87648682 0.88409934\n",
      " 0.89123608 0.89761157 0.9023694  0.90712722 0.91245599 0.91654772\n",
      " 0.92121039 0.92435056 0.92758588 0.93034542 0.93291464 0.93538871\n",
      " 0.93786278 0.93995623 0.9424303  0.9446189  0.94604625 0.94775906\n",
      " 0.94928157 0.95032829 0.95242173 0.95403939 0.9555619  0.95689409\n",
      " 0.9577505  0.95889238 0.9606052  0.96184223 0.96288895 0.96326958\n",
      " 0.9643163  0.96507755]\n"
     ]
    }
   ],
   "source": [
    "hist, bins = np.histogram(x, bins=np.arange(1682))\n",
    "cdf = np.cumsum(hist) / len(answerer_info_dict)\n",
    "plt.plot(np.arange(50), cdf[:50])\n",
    "plt.show()\n",
    "print(cdf[:50])"
   ]
  },
  {
   "cell_type": "markdown",
   "metadata": {},
   "source": [
    "### No. of tags per question (train)"
   ]
  },
  {
   "cell_type": "code",
   "execution_count": 24,
   "metadata": {},
   "outputs": [
    {
     "name": "stdout",
     "output_type": "stream",
     "text": [
      "95704\n",
      "6792\n",
      "55520\n"
     ]
    }
   ],
   "source": [
    "with open(data_type+'/train_answer_'+data_type+'.txt') as f:\n",
    "    train_answer = f.read()\n",
    "\n",
    "train_answer = train_answer.split('\\n')[:-1]\n",
    "train_answer_dict = {}\n",
    "tags_list = []\n",
    "for answer_idx, tags in enumerate(train_answer):\n",
    "    tags = list(map(int, tags.split(' ')))\n",
    "    train_answer_dict[answer_idx] = tags\n",
    "    tags_list += tags\n",
    "    \n",
    "print(len(train_answer_dict))\n",
    "print(len(set(tags_list)))\n",
    "print(max(set(tags_list)))"
   ]
  },
  {
   "cell_type": "code",
   "execution_count": 25,
   "metadata": {},
   "outputs": [
    {
     "data": {
      "text/plain": [
       "6"
      ]
     },
     "execution_count": 25,
     "metadata": {},
     "output_type": "execute_result"
    }
   ],
   "source": [
    "x = []\n",
    "for tags in train_answer_dict.values():\n",
    "    x.append(len(tags))\n",
    "max(x)"
   ]
  },
  {
   "cell_type": "code",
   "execution_count": 26,
   "metadata": {},
   "outputs": [
    {
     "data": {
      "image/png": "[encoded data removed]",
      "text/plain": [
       "<Figure size 432x288 with 1 Axes>"
      ]
     },
     "metadata": {
      "needs_background": "light"
     },
     "output_type": "display_data"
    }
   ],
   "source": [
    "plt.hist(np.array(x), bins=np.arange(8))\n",
    "plt.show()"
   ]
  },
  {
   "cell_type": "markdown",
   "metadata": {},
   "source": [
    "### No. of tags per answerer"
   ]
  },
  {
   "cell_type": "code",
   "execution_count": 26,
   "metadata": {},
   "outputs": [
    {
     "name": "stderr",
     "output_type": "stream",
     "text": [
      "100%|████████████████████████████████████████████████████████████████████████████████████████████████████████████████████████████████████████████████████████████████████████████████████████████████████████████████████████████████████████████████████████████████████████████| 10509/10509 [02:04<00:00, 84.36it/s]\n"
     ]
    },
    {
     "data": {
      "text/plain": [
       "1253"
      ]
     },
     "execution_count": 26,
     "metadata": {},
     "output_type": "execute_result"
    }
   ],
   "source": [
    "with open(data_type+'/train_query_'+data_type+'.txt') as f:\n",
    "    train_query = f.read()\n",
    "train_query = train_query.split('\\n')[:-1]\n",
    "    \n",
    "x = []\n",
    "overlap = []\n",
    "for questions in tqdm.tqdm(answerer_info_dict.values()):\n",
    "    tag_list = []\n",
    "    for question in questions:\n",
    "        if str(question) in train_query:\n",
    "            tag_list.append(train_answer_dict[train_query.index(str(question))])\n",
    "    tag_list = list(itertools.chain.from_iterable(tag_list))\n",
    "    distinct_tag_list = set(tag_list)\n",
    "    \n",
    "    if len(tag_list) > 0:\n",
    "        x.append(len(distinct_tag_list))\n",
    "        overlap.append(len(distinct_tag_list)/len(tag_list))\n",
    "print(max(x))\n",
    "print(1 - np.mean(overlap))"
   ]
  },
  {
   "cell_type": "markdown",
   "metadata": {},
   "source": [
    "### Baseline"
   ]
  },
  {
   "cell_type": "code",
   "execution_count": 27,
   "metadata": {},
   "outputs": [],
   "source": [
    "with open(data_type + '.pickle', 'rb') as f:\n",
    "    data = pickle.load(f)\n",
    "\n",
    "question_info_dict = data['question_info_dict']\n",
    "answerer_info_dict = data['answerer_info_dict']\n",
    "question_to_tags = data['question_to_tags']\n",
    "val_data = data['val']\n",
    "val_query = val_data['question_idxes']\n",
    "val_label = val_data['labels']"
   ]
  },
  {
   "cell_type": "code",
   "execution_count": null,
   "metadata": {},
   "outputs": [
    {
     "name": "stderr",
     "output_type": "stream",
     "text": [
      "11954it [00:04, 2685.15it/s]\n"
     ]
    },
    {
     "name": "stdout",
     "output_type": "stream",
     "text": [
      "0 0.010623258636122858\n",
      "5 0.06549743163015474\n",
      "10 0.0716363733418742\n",
      "15 0.06971720345640219\n",
      "20 0.06691449814126393\n",
      "25 0.06422869871913867\n",
      "30 0.06158199703543997\n",
      "35 0.05428836346777933\n",
      "40 0.05106321423405179\n",
      "45 0.05042684137383363\n"
     ]
    }
   ],
   "source": [
    "f1_dict = defaultdict(list)\n",
    "y_pred_list = []\n",
    "y_true_list = []\n",
    "for idx, question_idx in tqdm.tqdm(enumerate(val_query)):\n",
    "    labels = val_label[idx]\n",
    "    tag_list = []\n",
    "    answerers = question_info_dict[question_idx]\n",
    "    for answerer in answerers:\n",
    "        question_from_answerer = answerer_info_dict[answerer]\n",
    "        for question in question_from_answerer:\n",
    "            if question in question_to_tags:\n",
    "                tags = question_to_tags[question]\n",
    "                tag_list.append(tags)\n",
    "                \n",
    "    tag_list = list(itertools.chain.from_iterable(tag_list))\n",
    "    y_pred = np.zeros(max_tag_list+100)\n",
    "    for tag in tag_list:\n",
    "        y_pred[tag] += 1\n",
    "    \n",
    "    y_true = np.zeros(max_tag_list+100)\n",
    "    for tag in labels:\n",
    "        y_true[tag] = 1\n",
    "    \n",
    "    y_pred_list.append(y_pred)\n",
    "    y_true_list.append(y_true)\n",
    "\n",
    "thresholds = np.arange(0, 100, 5)\n",
    "for th in thresholds:\n",
    "    f1 = f1_score(np.array(y_true_list), np.array(y_pred_list)>th, average='micro')\n",
    "    print(th, f1)"
   ]
  },
  {
   "cell_type": "code",
   "execution_count": null,
   "metadata": {},
   "outputs": [],
   "source": []
  }
 ],
 "metadata": {
  "kernelspec": {
   "display_name": "Python 3",
   "language": "python",
   "name": "python3"
  },
  "language_info": {
   "codemirror_mode": {
    "name": "ipython",
    "version": 3
   },
   "file_extension": ".py",
   "mimetype": "text/x-python",
   "name": "python",
   "nbconvert_exporter": "python",
   "pygments_lexer": "ipython3",
   "version": "3.7.6"
  }
 },
 "nbformat": 4,
 "nbformat_minor": 4
}
