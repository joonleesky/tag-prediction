{
 "cells": [
  {
   "cell_type": "code",
   "execution_count": 1,
   "metadata": {},
   "outputs": [],
   "source": [
    "import pickle\n",
    "from collections import defaultdict\n",
    "from matplotlib import pyplot as plt\n",
    "import numpy as np\n",
    "import itertools\n",
    "import tqdm\n",
    "from sklearn.metrics import f1_score"
   ]
  },
  {
   "cell_type": "markdown",
   "metadata": {},
   "source": [
    "### MathOverflow"
   ]
  },
  {
   "cell_type": "code",
   "execution_count": 2,
   "metadata": {},
   "outputs": [],
   "source": [
    "data_type = 'mathoverflow'\n",
    "max_tag_list = 1554"
   ]
  },
  {
   "cell_type": "code",
   "execution_count": 27,
   "metadata": {},
   "outputs": [
    {
     "ename": "OSError",
     "evalue": "[Errno 22] Invalid argument: 'mathoverflow/answerer_info_mathoverflow.txt'",
     "output_type": "error",
     "traceback": [
      "\u001b[1;31m---------------------------------------------------------------------------\u001b[0m",
      "\u001b[1;31mOSError\u001b[0m                                   Traceback (most recent call last)",
      "\u001b[1;32m<ipython-input-27-3448b4f79119>\u001b[0m in \u001b[0;36m<module>\u001b[1;34m\u001b[0m\n\u001b[0;32m      4\u001b[0m \u001b[1;31m# 1. Build answerer_info_dict & question_info_dict\u001b[0m\u001b[1;33m\u001b[0m\u001b[1;33m\u001b[0m\u001b[1;33m\u001b[0m\u001b[0m\n\u001b[0;32m      5\u001b[0m \u001b[1;31m#with open(data_type+'/answerer_info_'+data_type+'.txt') as f:\u001b[0m\u001b[1;33m\u001b[0m\u001b[1;33m\u001b[0m\u001b[1;33m\u001b[0m\u001b[0m\n\u001b[1;32m----> 6\u001b[1;33m \u001b[1;32mwith\u001b[0m \u001b[0mopen\u001b[0m\u001b[1;33m(\u001b[0m\u001b[1;34mr'mathoverflow/answerer_info_mathoverflow.txt'\u001b[0m\u001b[1;33m)\u001b[0m \u001b[1;32mas\u001b[0m \u001b[0mf\u001b[0m\u001b[1;33m:\u001b[0m\u001b[1;33m\u001b[0m\u001b[1;33m\u001b[0m\u001b[0m\n\u001b[0m\u001b[0;32m      7\u001b[0m     \u001b[0manswerer_info\u001b[0m \u001b[1;33m=\u001b[0m \u001b[0mf\u001b[0m\u001b[1;33m.\u001b[0m\u001b[0mread\u001b[0m\u001b[1;33m(\u001b[0m\u001b[1;33m)\u001b[0m\u001b[1;33m\u001b[0m\u001b[1;33m\u001b[0m\u001b[0m\n\u001b[0;32m      8\u001b[0m \u001b[0manswerer_info\u001b[0m \u001b[1;33m=\u001b[0m \u001b[0manswerer_info\u001b[0m\u001b[1;33m.\u001b[0m\u001b[0msplit\u001b[0m\u001b[1;33m(\u001b[0m\u001b[1;34m'\\n'\u001b[0m\u001b[1;33m)\u001b[0m\u001b[1;33m[\u001b[0m\u001b[1;33m:\u001b[0m\u001b[1;33m-\u001b[0m\u001b[1;36m1\u001b[0m\u001b[1;33m]\u001b[0m\u001b[1;33m\u001b[0m\u001b[1;33m\u001b[0m\u001b[0m\n",
      "\u001b[1;31mOSError\u001b[0m: [Errno 22] Invalid argument: 'mathoverflow/answerer_info_mathoverflow.txt'"
     ]
    }
   ],
   "source": [
    "answerer_info_dict = defaultdict(list)  # {answerer: [q1, q3, ..., qn]}\n",
    "question_info_dict = defaultdict(list)  # {question: [a2, a5, ..., an]}\n",
    "\n",
    "# 1. Build answerer_info_dict & question_info_dict\n",
    "with open(data_type+'/answerer_info_'+data_type+'.txt') as f:\n",
    "    answerer_info = f.read()\n",
    "answerer_info = answerer_info.split('\\n')[:-1]\n",
    "for answerer_idx, questions in enumerate(answerer_info):\n",
    "    questions = list(map(int, questions.split(' ')))\n",
    "    answerer_info_dict[answerer_idx] = questions\n",
    "    for question in questions:\n",
    "        question_info_dict[question].append(answerer_idx)\n",
    "        \n",
    "print(len(answerer_info_dict))\n",
    "print(len(question_info_dict))"
   ]
  },
  {
   "cell_type": "markdown",
   "metadata": {},
   "source": [
    "### No. of answerers per question"
   ]
  },
  {
   "cell_type": "code",
   "execution_count": 10,
   "metadata": {},
   "outputs": [
    {
     "ename": "ValueError",
     "evalue": "max() arg is an empty sequence",
     "output_type": "error",
     "traceback": [
      "\u001b[1;31m---------------------------------------------------------------------------\u001b[0m",
      "\u001b[1;31mValueError\u001b[0m                                Traceback (most recent call last)",
      "\u001b[1;32m<ipython-input-10-74e13b1ab289>\u001b[0m in \u001b[0;36m<module>\u001b[1;34m\u001b[0m\n\u001b[0;32m      2\u001b[0m \u001b[1;32mfor\u001b[0m \u001b[0manswerers\u001b[0m \u001b[1;32min\u001b[0m \u001b[0mquestion_info_dict\u001b[0m\u001b[1;33m.\u001b[0m\u001b[0mvalues\u001b[0m\u001b[1;33m(\u001b[0m\u001b[1;33m)\u001b[0m\u001b[1;33m:\u001b[0m\u001b[1;33m\u001b[0m\u001b[1;33m\u001b[0m\u001b[0m\n\u001b[0;32m      3\u001b[0m     \u001b[0mx\u001b[0m\u001b[1;33m.\u001b[0m\u001b[0mappend\u001b[0m\u001b[1;33m(\u001b[0m\u001b[0mlen\u001b[0m\u001b[1;33m(\u001b[0m\u001b[0manswerers\u001b[0m\u001b[1;33m)\u001b[0m\u001b[1;33m)\u001b[0m\u001b[1;33m\u001b[0m\u001b[1;33m\u001b[0m\u001b[0m\n\u001b[1;32m----> 4\u001b[1;33m \u001b[0mmax\u001b[0m\u001b[1;33m(\u001b[0m\u001b[0mx\u001b[0m\u001b[1;33m)\u001b[0m\u001b[1;33m\u001b[0m\u001b[1;33m\u001b[0m\u001b[0m\n\u001b[0m",
      "\u001b[1;31mValueError\u001b[0m: max() arg is an empty sequence"
     ]
    }
   ],
   "source": [
    "x = []\n",
    "for answerers in question_info_dict.values():\n",
    "    x.append(len(answerers))\n",
    "max(x)"
   ]
  },
  {
   "cell_type": "code",
   "execution_count": 5,
   "metadata": {},
   "outputs": [
    {
     "data": {
      "image/png": "[encoded data removed]",
      "text/plain": [
       "<Figure size 432x288 with 1 Axes>"
      ]
     },
     "metadata": {
      "needs_background": "light"
     },
     "output_type": "display_data"
    }
   ],
   "source": [
    "plt.hist(np.array(x), bins=np.arange(50)*2)\n",
    "plt.show()"
   ]
  },
  {
   "cell_type": "code",
   "execution_count": 6,
   "metadata": {},
   "outputs": [
    {
     "data": {
      "image/png": "[encoded data removed]",
      "text/plain": [
       "<Figure size 432x288 with 1 Axes>"
      ]
     },
     "metadata": {
      "needs_background": "light"
     },
     "output_type": "display_data"
    },
    {
     "name": "stdout",
     "output_type": "stream",
     "text": [
      "[0.         0.61618665 0.84979215 0.93049519 0.96203166 0.97633072\n",
      " 0.9835615  0.98766435 0.99037251 0.99218697 0.9933921  0.99447536\n",
      " 0.99526073 0.99566695 0.99620858 0.99653356 0.99689916 0.9972106\n",
      " 0.99746787 0.99768453]\n"
     ]
    }
   ],
   "source": [
    "hist, bins = np.histogram(x, bins=np.arange(173))\n",
    "cdf = np.cumsum(hist) / len(question_info_dict)\n",
    "plt.plot(np.arange(20), cdf[:20])\n",
    "plt.show()\n",
    "print(cdf[:20])"
   ]
  },
  {
   "cell_type": "markdown",
   "metadata": {},
   "source": [
    "### No. of questions per answerer"
   ]
  },
  {
   "cell_type": "code",
   "execution_count": 7,
   "metadata": {},
   "outputs": [
    {
     "data": {
      "text/plain": [
       "1784"
      ]
     },
     "execution_count": 7,
     "metadata": {},
     "output_type": "execute_result"
    }
   ],
   "source": [
    "x = []\n",
    "for questions in answerer_info_dict.values():\n",
    "    x.append(len(questions))\n",
    "max(x)"
   ]
  },
  {
   "cell_type": "code",
   "execution_count": 8,
   "metadata": {},
   "outputs": [
    {
     "data": {
      "image/png": "[encoded data removed]",
      "text/plain": [
       "<Figure size 432x288 with 1 Axes>"
      ]
     },
     "metadata": {
      "needs_background": "light"
     },
     "output_type": "display_data"
    }
   ],
   "source": [
    "plt.hist(np.array(x), bins=np.arange(100)*18)\n",
    "plt.show()"
   ]
  },
  {
   "cell_type": "code",
   "execution_count": 9,
   "metadata": {},
   "outputs": [
    {
     "data": {
      "image/png": "[encoded data removed]",
      "text/plain": [
       "<Figure size 432x288 with 1 Axes>"
      ]
     },
     "metadata": {
      "needs_background": "light"
     },
     "output_type": "display_data"
    },
    {
     "name": "stdout",
     "output_type": "stream",
     "text": [
      "[0.         0.         0.24972457 0.38009548 0.47300771 0.53341902\n",
      " 0.58097686 0.61953728 0.64891664 0.67352185 0.69739258 0.71446934\n",
      " 0.7308116  0.74293059 0.75358061 0.76184355 0.7735953  0.78295997\n",
      " 0.79177378 0.80077121 0.80756519 0.81399192 0.81968417 0.82794712\n",
      " 0.83272126 0.83694455 0.84153507 0.84575835 0.8496144  0.85255233\n",
      " 0.85585751 0.85879545 0.86118252 0.8654058  0.86907822 0.87256702\n",
      " 0.8758722  0.87899376 0.8802791  0.88229893 0.88560411 0.88835843\n",
      " 0.89111274 0.89258171 0.89386706 0.89533603 0.89809034 0.90011017\n",
      " 0.90139552 0.90378259]\n"
     ]
    }
   ],
   "source": [
    "hist, bins = np.histogram(x, bins=np.arange(1784))\n",
    "cdf = np.cumsum(hist) / len(answerer_info_dict)\n",
    "plt.plot(np.arange(50), cdf[:50])\n",
    "plt.show()\n",
    "print(cdf[:50])"
   ]
  },
  {
   "cell_type": "markdown",
   "metadata": {},
   "source": [
    "### No. of tags per question (train)"
   ]
  },
  {
   "cell_type": "code",
   "execution_count": 10,
   "metadata": {},
   "outputs": [
    {
     "name": "stdout",
     "output_type": "stream",
     "text": [
      "59080\n",
      "1429\n"
     ]
    }
   ],
   "source": [
    "with open(data_type+'/train_answer_'+data_type+'.txt') as f:\n",
    "    train_answer = f.read()\n",
    "\n",
    "train_answer = train_answer.split('\\n')[:-1]\n",
    "train_answer_dict = {}\n",
    "tags_list = []\n",
    "for answer_idx, tags in enumerate(train_answer):\n",
    "    tags = list(map(int, tags.split(' ')))\n",
    "    train_answer_dict[answer_idx] = tags\n",
    "    tags_list += tags\n",
    "\n",
    "print(len(train_answer_dict))\n",
    "print(len(set(tags_list)))"
   ]
  },
  {
   "cell_type": "code",
   "execution_count": 11,
   "metadata": {},
   "outputs": [
    {
     "data": {
      "text/plain": [
       "5"
      ]
     },
     "execution_count": 11,
     "metadata": {},
     "output_type": "execute_result"
    }
   ],
   "source": [
    "x = []\n",
    "for tags in train_answer_dict.values():\n",
    "    x.append(len(tags))\n",
    "max(x)"
   ]
  },
  {
   "cell_type": "code",
   "execution_count": 12,
   "metadata": {},
   "outputs": [
    {
     "data": {
      "image/png": "[encoded data removed]",
      "text/plain": [
       "<Figure size 432x288 with 1 Axes>"
      ]
     },
     "metadata": {
      "needs_background": "light"
     },
     "output_type": "display_data"
    }
   ],
   "source": [
    "plt.hist(np.array(x), bins=np.arange(7))\n",
    "plt.show()"
   ]
  },
  {
   "cell_type": "code",
   "execution_count": 13,
   "metadata": {},
   "outputs": [
    {
     "name": "stderr",
     "output_type": "stream",
     "text": [
      "100%|██████████████████████████████████████████████████████████████████████████████████████████████████████████████████████████████████████████████████████████████████████████████████████████████████████████████████████████████████████████████████████████████████████████████| 5446/5446 [01:26<00:00, 62.69it/s]"
     ]
    },
    {
     "name": "stdout",
     "output_type": "stream",
     "text": [
      "521\n",
      "0.27423497244137385\n"
     ]
    },
    {
     "name": "stderr",
     "output_type": "stream",
     "text": [
      "\n"
     ]
    }
   ],
   "source": [
    "with open(data_type+'/train_query_'+data_type+'.txt') as f:\n",
    "    train_query = f.read()\n",
    "train_query = train_query.split('\\n')[:-1]\n",
    "    \n",
    "x = []\n",
    "overlap = []\n",
    "for questions in tqdm.tqdm(answerer_info_dict.values()):\n",
    "    tag_list = []\n",
    "    for question in questions:\n",
    "        if str(question) in train_query:\n",
    "            tag_list.append(train_answer_dict[train_query.index(str(question))])\n",
    "    tag_list = list(itertools.chain.from_iterable(tag_list))\n",
    "    distinct_tag_list = set(tag_list)\n",
    "    \n",
    "    if len(tag_list) > 0:\n",
    "        x.append(len(distinct_tag_list))\n",
    "        overlap.append(len(distinct_tag_list)/len(tag_list))\n",
    "print(max(x))\n",
    "print(1 - np.mean(overlap))"
   ]
  },
  {
   "cell_type": "markdown",
   "metadata": {},
   "source": [
    "### Baseline"
   ]
  },
  {
   "cell_type": "code",
   "execution_count": 14,
   "metadata": {},
   "outputs": [],
   "source": [
    "with open(data_type + '.pickle', 'rb') as f:\n",
    "    data = pickle.load(f)\n",
    "\n",
    "question_info_dict = data['question_info_dict']\n",
    "answerer_info_dict = data['answerer_info_dict']\n",
    "question_to_tags = data['question_to_tags']\n",
    "val_data = data['val']\n",
    "val_query = val_data['question_idxes']\n",
    "val_label = val_data['labels']"
   ]
  },
  {
   "cell_type": "code",
   "execution_count": 17,
   "metadata": {},
   "outputs": [
    {
     "name": "stderr",
     "output_type": "stream",
     "text": [
      "7385it [10:23, 11.85it/s]\n"
     ]
    },
    {
     "name": "stdout",
     "output_type": "stream",
     "text": [
      "0 0.5039993090357288\n",
      "1 0.5424116204631623\n",
      "2 0.5585086486533819\n",
      "3 0.568044855296609\n",
      "4 0.5748409607763496\n",
      "5 0.5776990671357288\n",
      "6 0.5807580129627019\n",
      "7 0.5832146981522834\n",
      "8 0.5851514794597372\n",
      "9 0.5872495514400491\n",
      "10 0.5877860334294286\n",
      "11 0.5893544647866377\n",
      "12 0.5898388606149054\n",
      "13 0.5892196923364988\n",
      "14 0.589283165053275\n",
      "15 0.588999860149911\n",
      "16 0.5893995072103715\n",
      "17 0.5900267304806238\n",
      "18 0.5900186481542278\n",
      "19 0.5897047758619193\n",
      "20 0.5904130659998065\n",
      "21 0.5904379566599371\n",
      "22 0.5912437048782486\n",
      "23 0.590520513964582\n",
      "24 0.5902617118160163\n",
      "25 0.5908838574981266\n",
      "26 0.5907702819986648\n",
      "27 0.5906354444006129\n",
      "28 0.5905162873518109\n",
      "29 0.5897939466010816\n",
      "30 0.5889207379860785\n",
      "31 0.5883808563646321\n",
      "32 0.5874843830604147\n",
      "33 0.5870078708810621\n",
      "34 0.5866241181849641\n",
      "35 0.5861583216150471\n",
      "36 0.5853358710900711\n",
      "37 0.5847271223611532\n",
      "38 0.5844194890630081\n",
      "39 0.583514157197013\n",
      "40 0.5832399954620533\n",
      "41 0.5811043100494129\n",
      "42 0.580520132334307\n",
      "43 0.5802932937056516\n",
      "44 0.5805052258126597\n",
      "45 0.5795549804055893\n",
      "46 0.5796511203346876\n",
      "47 0.5782699525530152\n",
      "48 0.5782100251495597\n",
      "49 0.5772062023814122\n",
      "50 0.5759343435778502\n",
      "51 0.575230709903504\n",
      "52 0.5747173398999484\n",
      "53 0.5741605356477827\n",
      "54 0.5741151830710675\n",
      "55 0.5727433294440297\n",
      "56 0.5717287024579887\n",
      "57 0.5715998605510715\n",
      "58 0.5718451332059324\n",
      "59 0.5709710273985065\n",
      "60 0.5706228693887434\n",
      "61 0.5705321685769393\n",
      "62 0.5702940981434405\n",
      "63 0.5702216793284945\n",
      "64 0.5700097039475929\n",
      "65 0.5696954334545647\n",
      "66 0.5692633360868826\n",
      "67 0.5688905580754342\n",
      "68 0.5683696220019876\n",
      "69 0.5676204386613583\n",
      "70 0.5671518540030723\n",
      "71 0.5666207913987005\n",
      "72 0.5659063245493443\n",
      "73 0.5648349725887487\n",
      "74 0.5643257854656519\n",
      "75 0.5642278945358151\n",
      "76 0.5637214867753017\n",
      "77 0.563666598172656\n",
      "78 0.563211798588335\n",
      "79 0.5626624733577061\n",
      "80 0.5623498168004122\n",
      "81 0.5622101190090352\n",
      "82 0.561590395551796\n",
      "83 0.5607801110252247\n",
      "84 0.5607262478715436\n",
      "85 0.5605730632721232\n",
      "86 0.5601550945500829\n",
      "87 0.559201201178256\n",
      "88 0.5587500911486358\n",
      "89 0.5580016708841153\n",
      "90 0.5578038591490654\n",
      "91 0.5576884087713025\n",
      "92 0.5565833850028354\n",
      "93 0.5564912317908672\n",
      "94 0.5562800307829034\n",
      "95 0.5561490922512847\n",
      "96 0.5557218855082569\n",
      "97 0.5548018244011512\n",
      "98 0.5544796906770688\n",
      "99 0.5542768971841682\n"
     ]
    }
   ],
   "source": [
    "f1_dict = defaultdict(list)\n",
    "for idx, question_idx in tqdm.tqdm(enumerate(val_query)):\n",
    "    labels = val_label[idx]\n",
    "    tag_list = []\n",
    "    answerers = question_info_dict[question_idx]\n",
    "    for answerer in answerers:\n",
    "        question_from_answerer = answerer_info_dict[answerer]\n",
    "        for question in question_from_answerer:\n",
    "            if question in question_to_tags:\n",
    "                tags = question_to_tags[question]\n",
    "                tag_list.append(tags)\n",
    "                \n",
    "    tag_list = list(itertools.chain.from_iterable(tag_list))\n",
    "    y_pred = np.zeros(max_tag_list+100)\n",
    "    for tag in tag_list:\n",
    "        y_pred[tag] += 1\n",
    "    \n",
    "    y_true = np.zeros(max_tag_list+100)\n",
    "    for tag in labels:\n",
    "        y_true[tag] = 1\n",
    "        \n",
    "    for overlap in range(100):\n",
    "        _y_pred = (y_pred > overlap).astype(np.float)\n",
    "        f1 = f1_score(y_true, _y_pred, average='micro')\n",
    "        f1_dict[overlap].append(f1)\n",
    "\n",
    "for overlap in range(100):\n",
    "    print(overlap, np.mean(f1_dict[overlap]))"
   ]
  },
  {
   "cell_type": "markdown",
   "metadata": {},
   "source": [
    "### StackOverflow"
   ]
  },
  {
   "cell_type": "code",
   "execution_count": 18,
   "metadata": {},
   "outputs": [],
   "source": [
    "data_type = 'stackoverflow'\n",
    "max_tag_list = 65520"
   ]
  },
  {
   "cell_type": "code",
   "execution_count": 19,
   "metadata": {},
   "outputs": [
    {
     "name": "stdout",
     "output_type": "stream",
     "text": [
      "10509\n",
      "119630\n"
     ]
    }
   ],
   "source": [
    "answerer_info_dict = defaultdict(list)  # {answerer: [q1, q3, ..., qn]}\n",
    "question_info_dict = defaultdict(list)  # {question: [a2, a5, ..., an]}\n",
    "\n",
    "# 1. Build answerer_info_dict & question_info_dict\n",
    "with open(data_type+'/answerer_info_'+data_type+'.txt') as f:\n",
    "    answerer_info = f.read()\n",
    "answerer_info = answerer_info.split('\\n')[:-1]\n",
    "for answerer_idx, questions in enumerate(answerer_info):\n",
    "    questions = list(map(int, questions.split(' ')))\n",
    "    answerer_info_dict[answerer_idx] = questions\n",
    "    for question in questions:\n",
    "        question_info_dict[question].append(answerer_idx)\n",
    "        \n",
    "print(len(answerer_info_dict))\n",
    "print(len(question_info_dict))"
   ]
  },
  {
   "cell_type": "markdown",
   "metadata": {},
   "source": [
    "### No. of answerers per question"
   ]
  },
  {
   "cell_type": "code",
   "execution_count": 20,
   "metadata": {},
   "outputs": [
    {
     "data": {
      "text/plain": [
       "12"
      ]
     },
     "execution_count": 20,
     "metadata": {},
     "output_type": "execute_result"
    }
   ],
   "source": [
    "x = []\n",
    "for answerers in question_info_dict.values():\n",
    "    x.append(len(answerers))\n",
    "max(x)"
   ]
  },
  {
   "cell_type": "code",
   "execution_count": 21,
   "metadata": {},
   "outputs": [
    {
     "data": {
      "image/png": "[encoded data removed]",
      "text/plain": [
       "<Figure size 432x288 with 1 Axes>"
      ]
     },
     "metadata": {
      "needs_background": "light"
     },
     "output_type": "display_data"
    }
   ],
   "source": [
    "plt.hist(np.array(x), bins=np.arange(12))\n",
    "plt.show()"
   ]
  },
  {
   "cell_type": "code",
   "execution_count": 22,
   "metadata": {},
   "outputs": [
    {
     "data": {
      "image/png": "[encoded data removed]",
      "text/plain": [
       "<Figure size 432x288 with 1 Axes>"
      ]
     },
     "metadata": {
      "needs_background": "light"
     },
     "output_type": "display_data"
    },
    {
     "name": "stdout",
     "output_type": "stream",
     "text": [
      "[0.         0.98449386 0.99938979 0.99994149 0.9999582  0.99998328\n",
      " 0.99998328 0.99998328 0.99999164 0.99999164 0.99999164 1.        ]\n"
     ]
    }
   ],
   "source": [
    "hist, bins = np.histogram(x, bins=np.arange(13))\n",
    "cdf = np.cumsum(hist) / len(question_info_dict)\n",
    "plt.plot(np.arange(12), cdf[:12])\n",
    "plt.show()\n",
    "print(cdf[:12])"
   ]
  },
  {
   "cell_type": "markdown",
   "metadata": {},
   "source": [
    "### No. of questions per answerer"
   ]
  },
  {
   "cell_type": "code",
   "execution_count": 23,
   "metadata": {},
   "outputs": [
    {
     "data": {
      "text/plain": [
       "1682"
      ]
     },
     "execution_count": 23,
     "metadata": {},
     "output_type": "execute_result"
    }
   ],
   "source": [
    "x = []\n",
    "for questions in answerer_info_dict.values():\n",
    "    x.append(len(questions))\n",
    "max(x)"
   ]
  },
  {
   "cell_type": "code",
   "execution_count": 24,
   "metadata": {},
   "outputs": [
    {
     "data": {
      "image/png": "[encoded data removed]",
      "text/plain": [
       "<Figure size 432x288 with 1 Axes>"
      ]
     },
     "metadata": {
      "needs_background": "light"
     },
     "output_type": "display_data"
    }
   ],
   "source": [
    "plt.hist(np.array(x), bins=np.arange(100)*17)\n",
    "plt.show()"
   ]
  },
  {
   "cell_type": "code",
   "execution_count": 25,
   "metadata": {},
   "outputs": [
    {
     "data": {
      "image/png": "[encoded data removed]",
      "text/plain": [
       "<Figure size 432x288 with 1 Axes>"
      ]
     },
     "metadata": {
      "needs_background": "light"
     },
     "output_type": "display_data"
    },
    {
     "name": "stdout",
     "output_type": "stream",
     "text": [
      "[0.         0.         0.30098011 0.46493482 0.56437339 0.63526501\n",
      " 0.68236749 0.72337996 0.75478162 0.77790465 0.79874393 0.81606242\n",
      " 0.83119231 0.84337235 0.85707489 0.86754211 0.87648682 0.88409934\n",
      " 0.89123608 0.89761157 0.9023694  0.90712722 0.91245599 0.91654772\n",
      " 0.92121039 0.92435056 0.92758588 0.93034542 0.93291464 0.93538871\n",
      " 0.93786278 0.93995623 0.9424303  0.9446189  0.94604625 0.94775906\n",
      " 0.94928157 0.95032829 0.95242173 0.95403939 0.9555619  0.95689409\n",
      " 0.9577505  0.95889238 0.9606052  0.96184223 0.96288895 0.96326958\n",
      " 0.9643163  0.96507755]\n"
     ]
    }
   ],
   "source": [
    "hist, bins = np.histogram(x, bins=np.arange(1682))\n",
    "cdf = np.cumsum(hist) / len(answerer_info_dict)\n",
    "plt.plot(np.arange(50), cdf[:50])\n",
    "plt.show()\n",
    "print(cdf[:50])"
   ]
  },
  {
   "cell_type": "markdown",
   "metadata": {},
   "source": [
    "### No. of tags per question (train)"
   ]
  },
  {
   "cell_type": "code",
   "execution_count": 26,
   "metadata": {},
   "outputs": [
    {
     "name": "stdout",
     "output_type": "stream",
     "text": [
      "95704\n",
      "6792\n",
      "55520\n"
     ]
    }
   ],
   "source": [
    "with open(data_type+'/train_answer_'+data_type+'.txt') as f:\n",
    "    train_answer = f.read()\n",
    "\n",
    "train_answer = train_answer.split('\\n')[:-1]\n",
    "train_answer_dict = {}\n",
    "tags_list = []\n",
    "for answer_idx, tags in enumerate(train_answer):\n",
    "    tags = list(map(int, tags.split(' ')))\n",
    "    train_answer_dict[answer_idx] = tags\n",
    "    tags_list += tags\n",
    "    \n",
    "print(len(train_answer_dict))\n",
    "print(len(set(tags_list)))\n",
    "print(max(set(tags_list)))"
   ]
  },
  {
   "cell_type": "code",
   "execution_count": 27,
   "metadata": {},
   "outputs": [
    {
     "data": {
      "text/plain": [
       "6"
      ]
     },
     "execution_count": 27,
     "metadata": {},
     "output_type": "execute_result"
    }
   ],
   "source": [
    "x = []\n",
    "for tags in train_answer_dict.values():\n",
    "    x.append(len(tags))\n",
    "max(x)"
   ]
  },
  {
   "cell_type": "code",
   "execution_count": 28,
   "metadata": {},
   "outputs": [
    {
     "data": {
      "image/png": "[encoded data removed]",
      "text/plain": [
       "<Figure size 432x288 with 1 Axes>"
      ]
     },
     "metadata": {
      "needs_background": "light"
     },
     "output_type": "display_data"
    }
   ],
   "source": [
    "plt.hist(np.array(x), bins=np.arange(8))\n",
    "plt.show()"
   ]
  },
  {
   "cell_type": "markdown",
   "metadata": {},
   "source": [
    "### No. of tags per answerer"
   ]
  },
  {
   "cell_type": "code",
   "execution_count": 26,
   "metadata": {},
   "outputs": [
    {
     "name": "stderr",
     "output_type": "stream",
     "text": [
      "100%|████████████████████████████████████████████████████████████████████████████████████████████████████████████████████████████████████████████████████████████████████████████████████████████████████████████████████████████████████████████████████████████████████████████| 10509/10509 [02:04<00:00, 84.36it/s]\n"
     ]
    },
    {
     "data": {
      "text/plain": [
       "1253"
      ]
     },
     "execution_count": 26,
     "metadata": {},
     "output_type": "execute_result"
    }
   ],
   "source": [
    "with open(data_type+'/train_query_'+data_type+'.txt') as f:\n",
    "    train_query = f.read()\n",
    "train_query = train_query.split('\\n')[:-1]\n",
    "    \n",
    "x = []\n",
    "overlap = []\n",
    "for questions in tqdm.tqdm(answerer_info_dict.values()):\n",
    "    tag_list = []\n",
    "    for question in questions:\n",
    "        if str(question) in train_query:\n",
    "            tag_list.append(train_answer_dict[train_query.index(str(question))])\n",
    "    tag_list = list(itertools.chain.from_iterable(tag_list))\n",
    "    distinct_tag_list = set(tag_list)\n",
    "    \n",
    "    if len(tag_list) > 0:\n",
    "        x.append(len(distinct_tag_list))\n",
    "        overlap.append(len(distinct_tag_list)/len(tag_list))\n",
    "print(max(x))\n",
    "print(1 - np.mean(overlap))"
   ]
  },
  {
   "cell_type": "markdown",
   "metadata": {},
   "source": [
    "### Baseline"
   ]
  },
  {
   "cell_type": "code",
   "execution_count": 29,
   "metadata": {},
   "outputs": [],
   "source": [
    "with open(data_type + '.pickle', 'rb') as f:\n",
    "    data = pickle.load(f)\n",
    "\n",
    "question_info_dict = data['question_info_dict']\n",
    "answerer_info_dict = data['answerer_info_dict']\n",
    "question_to_tags = data['question_to_tags']\n",
    "val_data = data['val']\n",
    "val_query = val_data['question_idxes']\n",
    "val_label = val_data['labels']"
   ]
  },
  {
   "cell_type": "code",
   "execution_count": 30,
   "metadata": {},
   "outputs": [
    {
     "name": "stderr",
     "output_type": "stream",
     "text": [
      "11954it [38:00,  5.24it/s]"
     ]
    },
    {
     "name": "stdout",
     "output_type": "stream",
     "text": [
      "0 0.5114122015282491\n",
      "1 0.5250948154763082\n",
      "2 0.5274181161971092\n",
      "3 0.5276161766208416\n",
      "4 0.5261965975026067\n",
      "5 0.5252705152542426\n",
      "6 0.5243881525543609\n",
      "7 0.5235129610638156\n",
      "8 0.5221764680308746\n",
      "9 0.5211688935042464\n"
     ]
    },
    {
     "name": "stderr",
     "output_type": "stream",
     "text": [
      "\n"
     ]
    }
   ],
   "source": [
    "f1_dict = defaultdict(list)\n",
    "for idx, question_idx in tqdm.tqdm(enumerate(val_query)):\n",
    "    labels = val_label[idx]\n",
    "    tag_list = []\n",
    "    answerers = question_info_dict[question_idx]\n",
    "    for answerer in answerers:\n",
    "        question_from_answerer = answerer_info_dict[answerer]\n",
    "        for question in question_from_answerer:\n",
    "            if question in question_to_tags:\n",
    "                tags = question_to_tags[question]\n",
    "                tag_list.append(tags)\n",
    "                \n",
    "    tag_list = list(itertools.chain.from_iterable(tag_list))\n",
    "    y_pred = np.zeros(max_tag_list+100)\n",
    "    for tag in tag_list:\n",
    "        y_pred[tag] += 1\n",
    "    \n",
    "    y_true = np.zeros(max_tag_list+100)\n",
    "    for tag in labels:\n",
    "        y_true[tag] = 1\n",
    "        \n",
    "    for overlap in range(10):\n",
    "        _y_pred = (y_pred > overlap).astype(np.float)\n",
    "        f1 = f1_score(y_true, _y_pred, average='macro')\n",
    "        f1_dict[overlap].append(f1)\n",
    "\n",
    "for overlap in range(10):\n",
    "    print(overlap, np.mean(f1_dict[overlap]))"
   ]
  },
  {
   "cell_type": "code",
   "execution_count": null,
   "metadata": {},
   "outputs": [],
   "source": []
  }
 ],
 "metadata": {
  "kernelspec": {
   "display_name": "Python 3",
   "language": "python",
   "name": "python3"
  },
  "language_info": {
   "codemirror_mode": {
    "name": "ipython",
    "version": 3
   },
   "file_extension": ".py",
   "mimetype": "text/x-python",
   "name": "python",
   "nbconvert_exporter": "python",
   "pygments_lexer": "ipython3",
   "version": "3.7.6"
  }
 },
 "nbformat": 4,
 "nbformat_minor": 4
}
